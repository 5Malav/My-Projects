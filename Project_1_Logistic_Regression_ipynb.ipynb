{
  "nbformat": 4,
  "nbformat_minor": 0,
  "metadata": {
    "colab": {
      "provenance": []
    },
    "kernelspec": {
      "name": "python3",
      "display_name": "Python 3"
    },
    "language_info": {
      "name": "python"
    }
  },
  "cells": [
    {
      "cell_type": "markdown",
      "source": [
        "**Logistic Regression**"
      ],
      "metadata": {
        "id": "NgiiB8mTydrR"
      }
    },
    {
      "cell_type": "markdown",
      "source": [
        "**Import libraries**\n"
      ],
      "metadata": {
        "id": "TgPZbglEynzi"
      }
    },
    {
      "cell_type": "code",
      "execution_count": 82,
      "metadata": {
        "id": "Vib_uOKXPpHG"
      },
      "outputs": [],
      "source": [
        "import pandas as pd\n",
        "import numpy as np\n",
        "import matplotlib.pyplot as plt\n",
        "import seaborn as sns\n",
        "\n",
        "%matplotlib inline\n",
        "from sklearn.datasets import make_classification\n",
        "from sklearn.model_selection import train_test_split\n",
        "from sklearn.linear_model import LogisticRegression\n",
        "from sklearn.metrics import accuracy_score,confusion_matrix,classification_report\n",
        "from sklearn.metrics import roc_curve\n",
        "from sklearn.metrics import roc_auc_score\n",
        "from sklearn.model_selection import GridSearchCV\n",
        "from sklearn.model_selection import StratifiedKFold\n",
        "from sklearn.model_selection import RandomizedSearchCV\n",
        "from collections import Counter\n",
        "\n",
        "import warnings\n",
        "warnings.filterwarnings('ignore')"
      ]
    },
    {
      "cell_type": "code",
      "source": [
        "from sklearn.datasets import make_classification\n",
        "\n",
        "\"to create dataset such a way that we do not need do standardization\"\n"
      ],
      "metadata": {
        "colab": {
          "base_uri": "https://localhost:8080/",
          "height": 36
        },
        "id": "ovXgbutryg88",
        "outputId": "fbe8a2bc-3304-47dd-fb9d-5c926e300968"
      },
      "execution_count": 2,
      "outputs": [
        {
          "output_type": "execute_result",
          "data": {
            "text/plain": [
              "'to create dataset such a way that we do not need do standardization'"
            ],
            "application/vnd.google.colaboratory.intrinsic+json": {
              "type": "string"
            }
          },
          "metadata": {},
          "execution_count": 2
        }
      ]
    },
    {
      "cell_type": "code",
      "source": [
        "#create dataset\n",
        "\n",
        "X,y=make_classification(n_samples=1000,n_features=10,n_classes=2,random_state=42)\n",
        "\n",
        "#total 1000 samples in dataset\n",
        "#10 features-columns\n",
        "#binary classification problem so 2 classes"
      ],
      "metadata": {
        "id": "OmKlpclJP7_V"
      },
      "execution_count": 3,
      "outputs": []
    },
    {
      "cell_type": "code",
      "source": [
        "X=pd.DataFrame(X)"
      ],
      "metadata": {
        "id": "AkyfJMQxP8B3"
      },
      "execution_count": 4,
      "outputs": []
    },
    {
      "cell_type": "code",
      "source": [
        "y=pd.DataFrame(y)"
      ],
      "metadata": {
        "id": "VbpESh9QP8Er"
      },
      "execution_count": 5,
      "outputs": []
    },
    {
      "cell_type": "code",
      "source": [
        "from sklearn.model_selection import train_test_split\n",
        "\n",
        "X_train,X_test,y_train,y_test=train_test_split(X,y,test_size=0.30,random_state=9)"
      ],
      "metadata": {
        "id": "8r79l-f_P8HP"
      },
      "execution_count": 6,
      "outputs": []
    },
    {
      "cell_type": "code",
      "source": [
        "# Model training\n",
        "\n",
        "from sklearn.linear_model import LogisticRegression\n",
        "\n",
        "logistic=LogisticRegression()"
      ],
      "metadata": {
        "id": "OPM8l3jyP8Jw"
      },
      "execution_count": 7,
      "outputs": []
    },
    {
      "cell_type": "code",
      "source": [
        "#fit the model\n",
        "\n",
        "logistic.fit(X_train,y_train)"
      ],
      "metadata": {
        "colab": {
          "base_uri": "https://localhost:8080/",
          "height": 130
        },
        "id": "5oy0RJrXP8MT",
        "outputId": "97d01bf1-9915-4028-cbbe-c9834d4d3b65"
      },
      "execution_count": 8,
      "outputs": [
        {
          "output_type": "stream",
          "name": "stderr",
          "text": [
            "/usr/local/lib/python3.10/dist-packages/sklearn/utils/validation.py:1183: DataConversionWarning: A column-vector y was passed when a 1d array was expected. Please change the shape of y to (n_samples, ), for example using ravel().\n",
            "  y = column_or_1d(y, warn=True)\n"
          ]
        },
        {
          "output_type": "execute_result",
          "data": {
            "text/plain": [
              "LogisticRegression()"
            ],
            "text/html": [
              "<style>#sk-container-id-1 {color: black;}#sk-container-id-1 pre{padding: 0;}#sk-container-id-1 div.sk-toggleable {background-color: white;}#sk-container-id-1 label.sk-toggleable__label {cursor: pointer;display: block;width: 100%;margin-bottom: 0;padding: 0.3em;box-sizing: border-box;text-align: center;}#sk-container-id-1 label.sk-toggleable__label-arrow:before {content: \"▸\";float: left;margin-right: 0.25em;color: #696969;}#sk-container-id-1 label.sk-toggleable__label-arrow:hover:before {color: black;}#sk-container-id-1 div.sk-estimator:hover label.sk-toggleable__label-arrow:before {color: black;}#sk-container-id-1 div.sk-toggleable__content {max-height: 0;max-width: 0;overflow: hidden;text-align: left;background-color: #f0f8ff;}#sk-container-id-1 div.sk-toggleable__content pre {margin: 0.2em;color: black;border-radius: 0.25em;background-color: #f0f8ff;}#sk-container-id-1 input.sk-toggleable__control:checked~div.sk-toggleable__content {max-height: 200px;max-width: 100%;overflow: auto;}#sk-container-id-1 input.sk-toggleable__control:checked~label.sk-toggleable__label-arrow:before {content: \"▾\";}#sk-container-id-1 div.sk-estimator input.sk-toggleable__control:checked~label.sk-toggleable__label {background-color: #d4ebff;}#sk-container-id-1 div.sk-label input.sk-toggleable__control:checked~label.sk-toggleable__label {background-color: #d4ebff;}#sk-container-id-1 input.sk-hidden--visually {border: 0;clip: rect(1px 1px 1px 1px);clip: rect(1px, 1px, 1px, 1px);height: 1px;margin: -1px;overflow: hidden;padding: 0;position: absolute;width: 1px;}#sk-container-id-1 div.sk-estimator {font-family: monospace;background-color: #f0f8ff;border: 1px dotted black;border-radius: 0.25em;box-sizing: border-box;margin-bottom: 0.5em;}#sk-container-id-1 div.sk-estimator:hover {background-color: #d4ebff;}#sk-container-id-1 div.sk-parallel-item::after {content: \"\";width: 100%;border-bottom: 1px solid gray;flex-grow: 1;}#sk-container-id-1 div.sk-label:hover label.sk-toggleable__label {background-color: #d4ebff;}#sk-container-id-1 div.sk-serial::before {content: \"\";position: absolute;border-left: 1px solid gray;box-sizing: border-box;top: 0;bottom: 0;left: 50%;z-index: 0;}#sk-container-id-1 div.sk-serial {display: flex;flex-direction: column;align-items: center;background-color: white;padding-right: 0.2em;padding-left: 0.2em;position: relative;}#sk-container-id-1 div.sk-item {position: relative;z-index: 1;}#sk-container-id-1 div.sk-parallel {display: flex;align-items: stretch;justify-content: center;background-color: white;position: relative;}#sk-container-id-1 div.sk-item::before, #sk-container-id-1 div.sk-parallel-item::before {content: \"\";position: absolute;border-left: 1px solid gray;box-sizing: border-box;top: 0;bottom: 0;left: 50%;z-index: -1;}#sk-container-id-1 div.sk-parallel-item {display: flex;flex-direction: column;z-index: 1;position: relative;background-color: white;}#sk-container-id-1 div.sk-parallel-item:first-child::after {align-self: flex-end;width: 50%;}#sk-container-id-1 div.sk-parallel-item:last-child::after {align-self: flex-start;width: 50%;}#sk-container-id-1 div.sk-parallel-item:only-child::after {width: 0;}#sk-container-id-1 div.sk-dashed-wrapped {border: 1px dashed gray;margin: 0 0.4em 0.5em 0.4em;box-sizing: border-box;padding-bottom: 0.4em;background-color: white;}#sk-container-id-1 div.sk-label label {font-family: monospace;font-weight: bold;display: inline-block;line-height: 1.2em;}#sk-container-id-1 div.sk-label-container {text-align: center;}#sk-container-id-1 div.sk-container {/* jupyter's `normalize.less` sets `[hidden] { display: none; }` but bootstrap.min.css set `[hidden] { display: none !important; }` so we also need the `!important` here to be able to override the default hidden behavior on the sphinx rendered scikit-learn.org. See: https://github.com/scikit-learn/scikit-learn/issues/21755 */display: inline-block !important;position: relative;}#sk-container-id-1 div.sk-text-repr-fallback {display: none;}</style><div id=\"sk-container-id-1\" class=\"sk-top-container\"><div class=\"sk-text-repr-fallback\"><pre>LogisticRegression()</pre><b>In a Jupyter environment, please rerun this cell to show the HTML representation or trust the notebook. <br />On GitHub, the HTML representation is unable to render, please try loading this page with nbviewer.org.</b></div><div class=\"sk-container\" hidden><div class=\"sk-item\"><div class=\"sk-estimator sk-toggleable\"><input class=\"sk-toggleable__control sk-hidden--visually\" id=\"sk-estimator-id-1\" type=\"checkbox\" checked><label for=\"sk-estimator-id-1\" class=\"sk-toggleable__label sk-toggleable__label-arrow\">LogisticRegression</label><div class=\"sk-toggleable__content\"><pre>LogisticRegression()</pre></div></div></div></div></div>"
            ]
          },
          "metadata": {},
          "execution_count": 8
        }
      ]
    },
    {
      "cell_type": "code",
      "source": [
        "y_pred=logistic.predict(X_test)\n",
        "print(y_pred)"
      ],
      "metadata": {
        "colab": {
          "base_uri": "https://localhost:8080/"
        },
        "id": "3aa4viraP8PH",
        "outputId": "6a63da9d-d779-4951-a28b-9fb19f3dc455"
      },
      "execution_count": 9,
      "outputs": [
        {
          "output_type": "stream",
          "name": "stdout",
          "text": [
            "[1 1 1 1 1 0 0 1 0 0 1 0 0 0 1 1 0 0 0 1 0 0 1 1 1 1 1 0 0 1 0 1 0 1 1 1 1\n",
            " 1 0 1 1 1 0 0 0 1 0 1 0 0 0 1 0 0 1 1 1 0 0 0 1 1 1 1 0 0 0 0 1 1 1 1 0 1\n",
            " 0 1 0 0 0 1 1 0 0 1 0 0 0 1 0 0 0 0 1 1 0 1 0 1 1 1 1 0 0 0 0 0 1 0 1 0 0\n",
            " 0 1 1 1 1 1 1 0 1 1 0 1 0 1 1 1 0 1 1 0 0 1 0 1 1 1 0 1 1 0 0 1 1 1 0 0 0\n",
            " 1 1 1 0 0 1 1 0 0 0 0 0 1 1 1 0 1 1 1 1 1 0 1 1 0 1 1 0 0 0 0 0 0 0 1 1 0\n",
            " 0 0 1 1 1 1 0 0 0 0 1 0 1 1 0 0 0 1 1 0 0 1 1 0 1 1 0 0 0 1 1 1 1 0 0 1 0\n",
            " 0 1 0 0 0 0 0 0 0 1 0 1 0 1 0 1 1 0 0 1 1 1 0 1 1 0 1 0 0 0 1 0 0 1 1 0 0\n",
            " 1 0 0 1 0 1 0 1 0 1 0 0 1 0 1 0 1 1 0 0 0 1 1 0 0 0 1 1 1 1 1 1 1 1 1 0 0\n",
            " 1 0 1 0]\n"
          ]
        }
      ]
    },
    {
      "cell_type": "code",
      "source": [
        "#find probability of each class\n",
        "\n",
        "logistic.predict_proba(X_test)\n"
      ],
      "metadata": {
        "colab": {
          "base_uri": "https://localhost:8080/"
        },
        "id": "vuUaIwIVP8R5",
        "outputId": "e474ab4a-96c9-47c0-89b8-bb61084e34b6"
      },
      "execution_count": 10,
      "outputs": [
        {
          "output_type": "execute_result",
          "data": {
            "text/plain": [
              "array([[2.67857471e-02, 9.73214253e-01],\n",
              "       [8.45574650e-03, 9.91544254e-01],\n",
              "       [2.21028894e-01, 7.78971106e-01],\n",
              "       [1.27269973e-01, 8.72730027e-01],\n",
              "       [3.07228713e-01, 6.92771287e-01],\n",
              "       [9.30253269e-01, 6.97467307e-02],\n",
              "       [9.56657924e-01, 4.33420765e-02],\n",
              "       [1.12800632e-02, 9.88719937e-01],\n",
              "       [8.74998539e-01, 1.25001461e-01],\n",
              "       [9.63863611e-01, 3.61363889e-02],\n",
              "       [1.32004548e-01, 8.67995452e-01],\n",
              "       [9.75158102e-01, 2.48418983e-02],\n",
              "       [6.42427253e-01, 3.57572747e-01],\n",
              "       [8.23644528e-01, 1.76355472e-01],\n",
              "       [2.21632871e-01, 7.78367129e-01],\n",
              "       [2.36543082e-03, 9.97634569e-01],\n",
              "       [8.58931504e-01, 1.41068496e-01],\n",
              "       [9.14147486e-01, 8.58525139e-02],\n",
              "       [9.76167706e-01, 2.38322943e-02],\n",
              "       [2.90278074e-02, 9.70972193e-01],\n",
              "       [6.03395120e-01, 3.96604880e-01],\n",
              "       [9.97965199e-01, 2.03480114e-03],\n",
              "       [1.66779798e-03, 9.98332202e-01],\n",
              "       [5.17029676e-02, 9.48297032e-01],\n",
              "       [1.07645221e-01, 8.92354779e-01],\n",
              "       [1.02752223e-02, 9.89724778e-01],\n",
              "       [4.85122813e-01, 5.14877187e-01],\n",
              "       [9.92076257e-01, 7.92374346e-03],\n",
              "       [8.59284596e-01, 1.40715404e-01],\n",
              "       [1.75975952e-01, 8.24024048e-01],\n",
              "       [7.50967286e-01, 2.49032714e-01],\n",
              "       [2.79649667e-02, 9.72035033e-01],\n",
              "       [5.48360848e-01, 4.51639152e-01],\n",
              "       [3.33873323e-02, 9.66612668e-01],\n",
              "       [3.51134703e-02, 9.64886530e-01],\n",
              "       [1.48466984e-01, 8.51533016e-01],\n",
              "       [9.76273789e-03, 9.90237262e-01],\n",
              "       [3.50600556e-02, 9.64939944e-01],\n",
              "       [9.02211167e-01, 9.77888330e-02],\n",
              "       [3.37460370e-01, 6.62539630e-01],\n",
              "       [2.68947450e-01, 7.31052550e-01],\n",
              "       [7.90284381e-03, 9.92097156e-01],\n",
              "       [8.85361652e-01, 1.14638348e-01],\n",
              "       [7.88282911e-01, 2.11717089e-01],\n",
              "       [9.61578037e-01, 3.84219634e-02],\n",
              "       [1.62315652e-01, 8.37684348e-01],\n",
              "       [9.49658066e-01, 5.03419336e-02],\n",
              "       [7.39685498e-02, 9.26031450e-01],\n",
              "       [7.52314798e-01, 2.47685202e-01],\n",
              "       [9.47822773e-01, 5.21772268e-02],\n",
              "       [8.60069618e-01, 1.39930382e-01],\n",
              "       [1.47277608e-02, 9.85272239e-01],\n",
              "       [9.95404302e-01, 4.59569821e-03],\n",
              "       [7.96774521e-01, 2.03225479e-01],\n",
              "       [3.49443714e-03, 9.96505563e-01],\n",
              "       [1.35880482e-03, 9.98641195e-01],\n",
              "       [1.02747560e-01, 8.97252440e-01],\n",
              "       [8.42192865e-01, 1.57807135e-01],\n",
              "       [7.65413537e-01, 2.34586463e-01],\n",
              "       [9.11544216e-01, 8.84557839e-02],\n",
              "       [1.60317357e-01, 8.39682643e-01],\n",
              "       [1.70942893e-02, 9.82905711e-01],\n",
              "       [5.40592015e-02, 9.45940798e-01],\n",
              "       [5.12521010e-03, 9.94874790e-01],\n",
              "       [7.23124912e-01, 2.76875088e-01],\n",
              "       [9.94381194e-01, 5.61880601e-03],\n",
              "       [9.55628585e-01, 4.43714149e-02],\n",
              "       [6.07950565e-01, 3.92049435e-01],\n",
              "       [4.50731960e-01, 5.49268040e-01],\n",
              "       [3.19304902e-01, 6.80695098e-01],\n",
              "       [3.19368918e-02, 9.68063108e-01],\n",
              "       [1.24733527e-01, 8.75266473e-01],\n",
              "       [9.44562448e-01, 5.54375524e-02],\n",
              "       [3.73263723e-01, 6.26736277e-01],\n",
              "       [6.16122019e-01, 3.83877981e-01],\n",
              "       [1.92321415e-02, 9.80767858e-01],\n",
              "       [9.73681219e-01, 2.63187807e-02],\n",
              "       [6.42445701e-01, 3.57554299e-01],\n",
              "       [8.98613615e-01, 1.01386385e-01],\n",
              "       [1.90028206e-01, 8.09971794e-01],\n",
              "       [3.09026430e-01, 6.90973570e-01],\n",
              "       [8.51890911e-01, 1.48109089e-01],\n",
              "       [9.25955595e-01, 7.40444052e-02],\n",
              "       [1.24049924e-01, 8.75950076e-01],\n",
              "       [6.75082438e-01, 3.24917562e-01],\n",
              "       [6.76424261e-01, 3.23575739e-01],\n",
              "       [5.48665248e-01, 4.51334752e-01],\n",
              "       [4.19631861e-02, 9.58036814e-01],\n",
              "       [9.23962769e-01, 7.60372311e-02],\n",
              "       [6.01539123e-01, 3.98460877e-01],\n",
              "       [9.11980039e-01, 8.80199609e-02],\n",
              "       [9.91074319e-01, 8.92568079e-03],\n",
              "       [4.83589080e-01, 5.16410920e-01],\n",
              "       [4.97867414e-04, 9.99502133e-01],\n",
              "       [8.76502282e-01, 1.23497718e-01],\n",
              "       [3.36282079e-01, 6.63717921e-01],\n",
              "       [9.61925509e-01, 3.80744906e-02],\n",
              "       [1.16627904e-01, 8.83372096e-01],\n",
              "       [1.37703183e-01, 8.62296817e-01],\n",
              "       [8.75003060e-02, 9.12499694e-01],\n",
              "       [1.15094062e-01, 8.84905938e-01],\n",
              "       [9.99788204e-01, 2.11795893e-04],\n",
              "       [9.87244878e-01, 1.27551221e-02],\n",
              "       [8.79758545e-01, 1.20241455e-01],\n",
              "       [9.92269227e-01, 7.73077299e-03],\n",
              "       [5.20348650e-01, 4.79651350e-01],\n",
              "       [1.56890067e-01, 8.43109933e-01],\n",
              "       [9.54520238e-01, 4.54797619e-02],\n",
              "       [7.87072838e-02, 9.21292716e-01],\n",
              "       [5.43933223e-01, 4.56066777e-01],\n",
              "       [5.36538433e-01, 4.63461567e-01],\n",
              "       [9.69083621e-01, 3.09163790e-02],\n",
              "       [1.64600719e-03, 9.98353993e-01],\n",
              "       [3.51571466e-01, 6.48428534e-01],\n",
              "       [4.52182327e-01, 5.47817673e-01],\n",
              "       [2.80063169e-02, 9.71993683e-01],\n",
              "       [5.86396751e-02, 9.41360325e-01],\n",
              "       [2.55490111e-02, 9.74450989e-01],\n",
              "       [7.63272572e-01, 2.36727428e-01],\n",
              "       [6.37188349e-02, 9.36281165e-01],\n",
              "       [1.04829194e-01, 8.95170806e-01],\n",
              "       [7.36188702e-01, 2.63811298e-01],\n",
              "       [3.47485183e-01, 6.52514817e-01],\n",
              "       [8.45632239e-01, 1.54367761e-01],\n",
              "       [7.78334103e-03, 9.92216659e-01],\n",
              "       [2.28695439e-01, 7.71304561e-01],\n",
              "       [1.22827113e-01, 8.77172887e-01],\n",
              "       [9.17271411e-01, 8.27285888e-02],\n",
              "       [5.51967521e-03, 9.94480325e-01],\n",
              "       [2.74527393e-01, 7.25472607e-01],\n",
              "       [5.55810162e-01, 4.44189838e-01],\n",
              "       [7.62856889e-01, 2.37143111e-01],\n",
              "       [2.34950745e-01, 7.65049255e-01],\n",
              "       [9.25784773e-01, 7.42152275e-02],\n",
              "       [4.29572752e-01, 5.70427248e-01],\n",
              "       [3.62848908e-02, 9.63715109e-01],\n",
              "       [2.01463564e-01, 7.98536436e-01],\n",
              "       [9.33634364e-01, 6.63656362e-02],\n",
              "       [2.61496839e-02, 9.73850316e-01],\n",
              "       [1.93186430e-02, 9.80681357e-01],\n",
              "       [6.92617763e-01, 3.07382237e-01],\n",
              "       [6.95532738e-01, 3.04467262e-01],\n",
              "       [3.77359754e-01, 6.22640246e-01],\n",
              "       [6.70121587e-02, 9.32987841e-01],\n",
              "       [1.35103184e-01, 8.64896816e-01],\n",
              "       [9.51758827e-01, 4.82411732e-02],\n",
              "       [9.90427465e-01, 9.57253527e-03],\n",
              "       [9.82428632e-01, 1.75713684e-02],\n",
              "       [1.09729117e-01, 8.90270883e-01],\n",
              "       [1.37937202e-01, 8.62062798e-01],\n",
              "       [4.00231762e-01, 5.99768238e-01],\n",
              "       [8.65112655e-01, 1.34887345e-01],\n",
              "       [8.93195230e-01, 1.06804770e-01],\n",
              "       [4.04520438e-02, 9.59547956e-01],\n",
              "       [3.72345770e-01, 6.27654230e-01],\n",
              "       [9.87284757e-01, 1.27152432e-02],\n",
              "       [9.45508328e-01, 5.44916715e-02],\n",
              "       [8.87347453e-01, 1.12652547e-01],\n",
              "       [9.09314136e-01, 9.06858640e-02],\n",
              "       [9.00114686e-01, 9.98853143e-02],\n",
              "       [5.97458459e-02, 9.40254154e-01],\n",
              "       [2.61086854e-03, 9.97389131e-01],\n",
              "       [6.57242286e-02, 9.34275771e-01],\n",
              "       [9.83705419e-01, 1.62945806e-02],\n",
              "       [1.92119568e-01, 8.07880432e-01],\n",
              "       [3.15924369e-01, 6.84075631e-01],\n",
              "       [4.83280403e-03, 9.95167196e-01],\n",
              "       [1.56678416e-01, 8.43321584e-01],\n",
              "       [4.13900855e-01, 5.86099145e-01],\n",
              "       [8.89359804e-01, 1.10640196e-01],\n",
              "       [5.58144486e-02, 9.44185551e-01],\n",
              "       [5.66049187e-03, 9.94339508e-01],\n",
              "       [9.02951928e-01, 9.70480721e-02],\n",
              "       [3.63989815e-03, 9.96360102e-01],\n",
              "       [1.87304700e-01, 8.12695300e-01],\n",
              "       [6.42627184e-01, 3.57372816e-01],\n",
              "       [9.20617872e-01, 7.93821284e-02],\n",
              "       [9.79876312e-01, 2.01236879e-02],\n",
              "       [9.88885844e-01, 1.11141560e-02],\n",
              "       [9.76599652e-01, 2.34003480e-02],\n",
              "       [8.34897995e-01, 1.65102005e-01],\n",
              "       [8.72997748e-01, 1.27002252e-01],\n",
              "       [3.58268568e-01, 6.41731432e-01],\n",
              "       [4.84002795e-01, 5.15997205e-01],\n",
              "       [8.91791968e-01, 1.08208032e-01],\n",
              "       [7.02662902e-01, 2.97337098e-01],\n",
              "       [7.52311595e-01, 2.47688405e-01],\n",
              "       [1.29211394e-01, 8.70788606e-01],\n",
              "       [1.15039386e-03, 9.98849606e-01],\n",
              "       [5.67694196e-02, 9.43230580e-01],\n",
              "       [5.20074068e-03, 9.94799259e-01],\n",
              "       [7.85476345e-01, 2.14523655e-01],\n",
              "       [9.48871009e-01, 5.11289912e-02],\n",
              "       [8.35212384e-01, 1.64787616e-01],\n",
              "       [8.37569655e-01, 1.62430345e-01],\n",
              "       [1.90233058e-01, 8.09766942e-01],\n",
              "       [6.90571294e-01, 3.09428706e-01],\n",
              "       [4.37947488e-02, 9.56205251e-01],\n",
              "       [9.08240791e-03, 9.90917592e-01],\n",
              "       [9.51595048e-01, 4.84049524e-02],\n",
              "       [5.65599852e-01, 4.34400148e-01],\n",
              "       [9.71110200e-01, 2.88898002e-02],\n",
              "       [8.66818603e-02, 9.13318140e-01],\n",
              "       [5.38062850e-02, 9.46193715e-01],\n",
              "       [8.73856404e-01, 1.26143596e-01],\n",
              "       [9.68571272e-01, 3.14287282e-02],\n",
              "       [2.32402254e-02, 9.76759775e-01],\n",
              "       [2.50706800e-02, 9.74929320e-01],\n",
              "       [8.46293117e-01, 1.53706883e-01],\n",
              "       [5.19806377e-02, 9.48019362e-01],\n",
              "       [2.39125298e-01, 7.60874702e-01],\n",
              "       [6.91696467e-01, 3.08303533e-01],\n",
              "       [5.39936467e-01, 4.60063533e-01],\n",
              "       [9.46449254e-01, 5.35507463e-02],\n",
              "       [2.37041660e-02, 9.76295834e-01],\n",
              "       [4.61189715e-02, 9.53881028e-01],\n",
              "       [3.06458433e-01, 6.93541567e-01],\n",
              "       [4.41909043e-01, 5.58090957e-01],\n",
              "       [7.83413993e-01, 2.16586007e-01],\n",
              "       [9.52779089e-01, 4.72209106e-02],\n",
              "       [3.74784633e-02, 9.62521537e-01],\n",
              "       [9.59521903e-01, 4.04780974e-02],\n",
              "       [9.74324972e-01, 2.56750284e-02],\n",
              "       [5.05469973e-02, 9.49453003e-01],\n",
              "       [9.87558460e-01, 1.24415398e-02],\n",
              "       [8.09312618e-01, 1.90687382e-01],\n",
              "       [7.27527646e-01, 2.72472354e-01],\n",
              "       [8.12822928e-01, 1.87177072e-01],\n",
              "       [9.33607950e-01, 6.63920501e-02],\n",
              "       [8.27144666e-01, 1.72855334e-01],\n",
              "       [9.81712373e-01, 1.82876267e-02],\n",
              "       [2.79567781e-01, 7.20432219e-01],\n",
              "       [9.82028253e-01, 1.79717466e-02],\n",
              "       [7.99063642e-02, 9.20093636e-01],\n",
              "       [6.96436184e-01, 3.03563816e-01],\n",
              "       [9.64560197e-02, 9.03543980e-01],\n",
              "       [8.43078216e-01, 1.56921784e-01],\n",
              "       [1.86605582e-01, 8.13394418e-01],\n",
              "       [6.12477048e-02, 9.38752295e-01],\n",
              "       [7.62737733e-01, 2.37262267e-01],\n",
              "       [9.38997862e-01, 6.10021380e-02],\n",
              "       [1.49468085e-01, 8.50531915e-01],\n",
              "       [1.23331739e-02, 9.87666826e-01],\n",
              "       [3.61486298e-01, 6.38513702e-01],\n",
              "       [9.56288758e-01, 4.37112423e-02],\n",
              "       [6.66943851e-02, 9.33305615e-01],\n",
              "       [3.30097612e-02, 9.66990239e-01],\n",
              "       [6.63990598e-01, 3.36009402e-01],\n",
              "       [3.78469894e-01, 6.21530106e-01],\n",
              "       [9.91639094e-01, 8.36090580e-03],\n",
              "       [9.86810120e-01, 1.31898796e-02],\n",
              "       [9.75171983e-01, 2.48280166e-02],\n",
              "       [4.13444489e-01, 5.86555511e-01],\n",
              "       [6.54999272e-01, 3.45000728e-01],\n",
              "       [9.19648478e-01, 8.03515222e-02],\n",
              "       [5.44138615e-02, 9.45586139e-01],\n",
              "       [7.28573996e-02, 9.27142600e-01],\n",
              "       [7.54826432e-01, 2.45173568e-01],\n",
              "       [9.92881925e-01, 7.11807550e-03],\n",
              "       [3.15993426e-01, 6.84006574e-01],\n",
              "       [7.11981396e-01, 2.88018604e-01],\n",
              "       [9.71848580e-01, 2.81514204e-02],\n",
              "       [1.09880189e-02, 9.89011981e-01],\n",
              "       [5.71073257e-01, 4.28926743e-01],\n",
              "       [1.03528747e-03, 9.98964713e-01],\n",
              "       [7.35206447e-01, 2.64793553e-01],\n",
              "       [8.60280705e-02, 9.13971930e-01],\n",
              "       [9.90615912e-01, 9.38408848e-03],\n",
              "       [2.45303462e-04, 9.99754697e-01],\n",
              "       [9.78950820e-01, 2.10491802e-02],\n",
              "       [8.83416782e-01, 1.16583218e-01],\n",
              "       [4.92705815e-01, 5.07294185e-01],\n",
              "       [7.19789013e-01, 2.80210987e-01],\n",
              "       [3.51294957e-01, 6.48705043e-01],\n",
              "       [9.28356273e-01, 7.16437270e-02],\n",
              "       [8.42545257e-03, 9.91574547e-01],\n",
              "       [8.09516557e-02, 9.19048344e-01],\n",
              "       [6.05164537e-01, 3.94835463e-01],\n",
              "       [7.67076488e-01, 2.32923512e-01],\n",
              "       [9.76204193e-01, 2.37958066e-02],\n",
              "       [3.66798147e-01, 6.33201853e-01],\n",
              "       [7.85550037e-02, 9.21444996e-01],\n",
              "       [9.56726611e-01, 4.32733893e-02],\n",
              "       [6.44196419e-01, 3.55803581e-01],\n",
              "       [9.15531369e-01, 8.44686313e-02],\n",
              "       [8.42898021e-02, 9.15710198e-01],\n",
              "       [1.40922845e-01, 8.59077155e-01],\n",
              "       [2.26560168e-04, 9.99773440e-01],\n",
              "       [2.08602461e-01, 7.91397539e-01],\n",
              "       [2.49684610e-02, 9.75031539e-01],\n",
              "       [3.93467477e-03, 9.96065325e-01],\n",
              "       [1.12173499e-01, 8.87826501e-01],\n",
              "       [2.00727077e-01, 7.99272923e-01],\n",
              "       [1.92910532e-01, 8.07089468e-01],\n",
              "       [8.63443992e-01, 1.36556008e-01],\n",
              "       [9.93386309e-01, 6.61369072e-03],\n",
              "       [2.36671293e-01, 7.63328707e-01],\n",
              "       [8.85560863e-01, 1.14439137e-01],\n",
              "       [5.59694775e-02, 9.44030522e-01],\n",
              "       [9.95829446e-01, 4.17055407e-03]])"
            ]
          },
          "metadata": {},
          "execution_count": 10
        }
      ]
    },
    {
      "cell_type": "code",
      "source": [
        "#Performance matrix\n",
        "\n",
        "from sklearn.metrics import accuracy_score,confusion_matrix,classification_report"
      ],
      "metadata": {
        "id": "PresZgiOP8Uv"
      },
      "execution_count": 11,
      "outputs": []
    },
    {
      "cell_type": "code",
      "source": [
        "score=accuracy_score(y_test,y_pred)\n",
        "print(score)\n",
        "\n",
        "cm=confusion_matrix(y_test,y_pred)\n",
        "print(cm)\n",
        "\n",
        "report=classification_report(y_test,y_pred)\n",
        "print(report)\n",
        "\n",
        "\" change random state value and will get different score each time\""
      ],
      "metadata": {
        "colab": {
          "base_uri": "https://localhost:8080/",
          "height": 253
        },
        "id": "YlxuIZ0y1--v",
        "outputId": "6ebc08f2-c56c-439f-8933-4751e29eeb31"
      },
      "execution_count": 12,
      "outputs": [
        {
          "output_type": "stream",
          "name": "stdout",
          "text": [
            "0.8533333333333334\n",
            "[[127  22]\n",
            " [ 22 129]]\n",
            "              precision    recall  f1-score   support\n",
            "\n",
            "           0       0.85      0.85      0.85       149\n",
            "           1       0.85      0.85      0.85       151\n",
            "\n",
            "    accuracy                           0.85       300\n",
            "   macro avg       0.85      0.85      0.85       300\n",
            "weighted avg       0.85      0.85      0.85       300\n",
            "\n"
          ]
        },
        {
          "output_type": "execute_result",
          "data": {
            "text/plain": [
              "' change random state value and will get different score each time'"
            ],
            "application/vnd.google.colaboratory.intrinsic+json": {
              "type": "string"
            }
          },
          "metadata": {},
          "execution_count": 12
        }
      ]
    },
    {
      "cell_type": "markdown",
      "source": [
        "**Grid Search Hyper parameter**"
      ],
      "metadata": {
        "id": "T9MLZzfiL53T"
      }
    },
    {
      "cell_type": "code",
      "source": [
        "\"\"\"\n",
        "class sklearn.linear_model.LogisticRegression\n",
        "(penalty='l2', *, dual=False, tol=0.0001, C=1.0, fit_intercept=True,\n",
        "intercept_scaling=1, class_weight=None, random_state=None, solver='lbfgs',\n",
        "max_iter=100, multi_class='deprecated', verbose=0, warm_start=False,\n",
        "n_jobs=None, l1_ratio=None)\n",
        "\"\"\""
      ],
      "metadata": {
        "colab": {
          "base_uri": "https://localhost:8080/",
          "height": 54
        },
        "id": "YYkCP_v0GkEX",
        "outputId": "0c7072a0-74e1-42c0-8d9d-2f2886a4b03f"
      },
      "execution_count": 13,
      "outputs": [
        {
          "output_type": "execute_result",
          "data": {
            "text/plain": [
              "\"\\nclass sklearn.linear_model.LogisticRegression\\n(penalty='l2', *, dual=False, tol=0.0001, C=1.0, fit_intercept=True, \\nintercept_scaling=1, class_weight=None, random_state=None, solver='lbfgs', \\nmax_iter=100, multi_class='deprecated', verbose=0, warm_start=False, \\nn_jobs=None, l1_ratio=None)\\n\""
            ],
            "application/vnd.google.colaboratory.intrinsic+json": {
              "type": "string"
            }
          },
          "metadata": {},
          "execution_count": 13
        }
      ]
    },
    {
      "cell_type": "code",
      "source": [
        "model=LogisticRegression()\n",
        "\n",
        "\"DO not use l1 and elasticnet with solver lbfgs\"\n",
        "\"it will give error\"\n",
        "\n",
        "penalty=['l2']\n",
        "c_values=[100,10,1.0,0.1,0.01]\n",
        "solver=['lbfgs','liblinear','newton-cg','newton-cholesky','sag','saga']\n"
      ],
      "metadata": {
        "id": "LRJHS82zF-2f"
      },
      "execution_count": 14,
      "outputs": []
    },
    {
      "cell_type": "code",
      "source": [
        "#put all these parameter in key-value pairs\n",
        "\n",
        "params=dict(penalty=penalty,C=c_values,solver=solver)\n",
        "params"
      ],
      "metadata": {
        "colab": {
          "base_uri": "https://localhost:8080/"
        },
        "id": "d491sovRF-zf",
        "outputId": "77ab288a-ba41-4793-bcfb-72fa845872ff"
      },
      "execution_count": 15,
      "outputs": [
        {
          "output_type": "execute_result",
          "data": {
            "text/plain": [
              "{'penalty': ['l2'],\n",
              " 'C': [100, 10, 1.0, 0.1, 0.01],\n",
              " 'solver': ['lbfgs',\n",
              "  'liblinear',\n",
              "  'newton-cg',\n",
              "  'newton-cholesky',\n",
              "  'sag',\n",
              "  'saga']}"
            ]
          },
          "metadata": {},
          "execution_count": 15
        }
      ]
    },
    {
      "cell_type": "code",
      "source": [
        "from sklearn.model_selection import StratifiedKFold\n",
        "\n",
        "cv=StratifiedKFold()"
      ],
      "metadata": {
        "id": "o33x-HsBJACy"
      },
      "execution_count": 16,
      "outputs": []
    },
    {
      "cell_type": "code",
      "source": [
        "#GridSearchCV\n",
        "\n",
        "#find out best parameter for this dataset\n",
        "\n",
        "from sklearn.model_selection import GridSearchCV\n",
        "\n",
        "\n",
        "grid=GridSearchCV(estimator=model,param_grid=params,scoring='accuracy',cv=cv,n_jobs=-1,error_score=\"raise\")\n",
        "\n",
        "print(grid)\n",
        "#cv- cross validation\n",
        "\n"
      ],
      "metadata": {
        "colab": {
          "base_uri": "https://localhost:8080/"
        },
        "id": "4JHcDOYp1-7w",
        "outputId": "76b98223-adff-4bd5-aa63-76eebd75806c"
      },
      "execution_count": 17,
      "outputs": [
        {
          "output_type": "stream",
          "name": "stdout",
          "text": [
            "GridSearchCV(cv=StratifiedKFold(n_splits=5, random_state=None, shuffle=False),\n",
            "             error_score='raise', estimator=LogisticRegression(), n_jobs=-1,\n",
            "             param_grid={'C': [100, 10, 1.0, 0.1, 0.01], 'penalty': ['l2'],\n",
            "                         'solver': ['lbfgs', 'liblinear', 'newton-cg',\n",
            "                                    'newton-cholesky', 'sag', 'saga']},\n",
            "             scoring='accuracy')\n"
          ]
        }
      ]
    },
    {
      "cell_type": "code",
      "source": [
        "grid.fit(X_train,y_train)\n"
      ],
      "metadata": {
        "colab": {
          "base_uri": "https://localhost:8080/",
          "height": 173
        },
        "id": "Ly7JyNu31-5P",
        "outputId": "f9f64049-858f-493c-87f3-5c09eb8ea1eb"
      },
      "execution_count": 18,
      "outputs": [
        {
          "output_type": "stream",
          "name": "stderr",
          "text": [
            "/usr/local/lib/python3.10/dist-packages/sklearn/utils/validation.py:1183: DataConversionWarning: A column-vector y was passed when a 1d array was expected. Please change the shape of y to (n_samples, ), for example using ravel().\n",
            "  y = column_or_1d(y, warn=True)\n"
          ]
        },
        {
          "output_type": "execute_result",
          "data": {
            "text/plain": [
              "GridSearchCV(cv=StratifiedKFold(n_splits=5, random_state=None, shuffle=False),\n",
              "             error_score='raise', estimator=LogisticRegression(), n_jobs=-1,\n",
              "             param_grid={'C': [100, 10, 1.0, 0.1, 0.01], 'penalty': ['l2'],\n",
              "                         'solver': ['lbfgs', 'liblinear', 'newton-cg',\n",
              "                                    'newton-cholesky', 'sag', 'saga']},\n",
              "             scoring='accuracy')"
            ],
            "text/html": [
              "<style>#sk-container-id-2 {color: black;}#sk-container-id-2 pre{padding: 0;}#sk-container-id-2 div.sk-toggleable {background-color: white;}#sk-container-id-2 label.sk-toggleable__label {cursor: pointer;display: block;width: 100%;margin-bottom: 0;padding: 0.3em;box-sizing: border-box;text-align: center;}#sk-container-id-2 label.sk-toggleable__label-arrow:before {content: \"▸\";float: left;margin-right: 0.25em;color: #696969;}#sk-container-id-2 label.sk-toggleable__label-arrow:hover:before {color: black;}#sk-container-id-2 div.sk-estimator:hover label.sk-toggleable__label-arrow:before {color: black;}#sk-container-id-2 div.sk-toggleable__content {max-height: 0;max-width: 0;overflow: hidden;text-align: left;background-color: #f0f8ff;}#sk-container-id-2 div.sk-toggleable__content pre {margin: 0.2em;color: black;border-radius: 0.25em;background-color: #f0f8ff;}#sk-container-id-2 input.sk-toggleable__control:checked~div.sk-toggleable__content {max-height: 200px;max-width: 100%;overflow: auto;}#sk-container-id-2 input.sk-toggleable__control:checked~label.sk-toggleable__label-arrow:before {content: \"▾\";}#sk-container-id-2 div.sk-estimator input.sk-toggleable__control:checked~label.sk-toggleable__label {background-color: #d4ebff;}#sk-container-id-2 div.sk-label input.sk-toggleable__control:checked~label.sk-toggleable__label {background-color: #d4ebff;}#sk-container-id-2 input.sk-hidden--visually {border: 0;clip: rect(1px 1px 1px 1px);clip: rect(1px, 1px, 1px, 1px);height: 1px;margin: -1px;overflow: hidden;padding: 0;position: absolute;width: 1px;}#sk-container-id-2 div.sk-estimator {font-family: monospace;background-color: #f0f8ff;border: 1px dotted black;border-radius: 0.25em;box-sizing: border-box;margin-bottom: 0.5em;}#sk-container-id-2 div.sk-estimator:hover {background-color: #d4ebff;}#sk-container-id-2 div.sk-parallel-item::after {content: \"\";width: 100%;border-bottom: 1px solid gray;flex-grow: 1;}#sk-container-id-2 div.sk-label:hover label.sk-toggleable__label {background-color: #d4ebff;}#sk-container-id-2 div.sk-serial::before {content: \"\";position: absolute;border-left: 1px solid gray;box-sizing: border-box;top: 0;bottom: 0;left: 50%;z-index: 0;}#sk-container-id-2 div.sk-serial {display: flex;flex-direction: column;align-items: center;background-color: white;padding-right: 0.2em;padding-left: 0.2em;position: relative;}#sk-container-id-2 div.sk-item {position: relative;z-index: 1;}#sk-container-id-2 div.sk-parallel {display: flex;align-items: stretch;justify-content: center;background-color: white;position: relative;}#sk-container-id-2 div.sk-item::before, #sk-container-id-2 div.sk-parallel-item::before {content: \"\";position: absolute;border-left: 1px solid gray;box-sizing: border-box;top: 0;bottom: 0;left: 50%;z-index: -1;}#sk-container-id-2 div.sk-parallel-item {display: flex;flex-direction: column;z-index: 1;position: relative;background-color: white;}#sk-container-id-2 div.sk-parallel-item:first-child::after {align-self: flex-end;width: 50%;}#sk-container-id-2 div.sk-parallel-item:last-child::after {align-self: flex-start;width: 50%;}#sk-container-id-2 div.sk-parallel-item:only-child::after {width: 0;}#sk-container-id-2 div.sk-dashed-wrapped {border: 1px dashed gray;margin: 0 0.4em 0.5em 0.4em;box-sizing: border-box;padding-bottom: 0.4em;background-color: white;}#sk-container-id-2 div.sk-label label {font-family: monospace;font-weight: bold;display: inline-block;line-height: 1.2em;}#sk-container-id-2 div.sk-label-container {text-align: center;}#sk-container-id-2 div.sk-container {/* jupyter's `normalize.less` sets `[hidden] { display: none; }` but bootstrap.min.css set `[hidden] { display: none !important; }` so we also need the `!important` here to be able to override the default hidden behavior on the sphinx rendered scikit-learn.org. See: https://github.com/scikit-learn/scikit-learn/issues/21755 */display: inline-block !important;position: relative;}#sk-container-id-2 div.sk-text-repr-fallback {display: none;}</style><div id=\"sk-container-id-2\" class=\"sk-top-container\"><div class=\"sk-text-repr-fallback\"><pre>GridSearchCV(cv=StratifiedKFold(n_splits=5, random_state=None, shuffle=False),\n",
              "             error_score=&#x27;raise&#x27;, estimator=LogisticRegression(), n_jobs=-1,\n",
              "             param_grid={&#x27;C&#x27;: [100, 10, 1.0, 0.1, 0.01], &#x27;penalty&#x27;: [&#x27;l2&#x27;],\n",
              "                         &#x27;solver&#x27;: [&#x27;lbfgs&#x27;, &#x27;liblinear&#x27;, &#x27;newton-cg&#x27;,\n",
              "                                    &#x27;newton-cholesky&#x27;, &#x27;sag&#x27;, &#x27;saga&#x27;]},\n",
              "             scoring=&#x27;accuracy&#x27;)</pre><b>In a Jupyter environment, please rerun this cell to show the HTML representation or trust the notebook. <br />On GitHub, the HTML representation is unable to render, please try loading this page with nbviewer.org.</b></div><div class=\"sk-container\" hidden><div class=\"sk-item sk-dashed-wrapped\"><div class=\"sk-label-container\"><div class=\"sk-label sk-toggleable\"><input class=\"sk-toggleable__control sk-hidden--visually\" id=\"sk-estimator-id-2\" type=\"checkbox\" ><label for=\"sk-estimator-id-2\" class=\"sk-toggleable__label sk-toggleable__label-arrow\">GridSearchCV</label><div class=\"sk-toggleable__content\"><pre>GridSearchCV(cv=StratifiedKFold(n_splits=5, random_state=None, shuffle=False),\n",
              "             error_score=&#x27;raise&#x27;, estimator=LogisticRegression(), n_jobs=-1,\n",
              "             param_grid={&#x27;C&#x27;: [100, 10, 1.0, 0.1, 0.01], &#x27;penalty&#x27;: [&#x27;l2&#x27;],\n",
              "                         &#x27;solver&#x27;: [&#x27;lbfgs&#x27;, &#x27;liblinear&#x27;, &#x27;newton-cg&#x27;,\n",
              "                                    &#x27;newton-cholesky&#x27;, &#x27;sag&#x27;, &#x27;saga&#x27;]},\n",
              "             scoring=&#x27;accuracy&#x27;)</pre></div></div></div><div class=\"sk-parallel\"><div class=\"sk-parallel-item\"><div class=\"sk-item\"><div class=\"sk-label-container\"><div class=\"sk-label sk-toggleable\"><input class=\"sk-toggleable__control sk-hidden--visually\" id=\"sk-estimator-id-3\" type=\"checkbox\" ><label for=\"sk-estimator-id-3\" class=\"sk-toggleable__label sk-toggleable__label-arrow\">estimator: LogisticRegression</label><div class=\"sk-toggleable__content\"><pre>LogisticRegression()</pre></div></div></div><div class=\"sk-serial\"><div class=\"sk-item\"><div class=\"sk-estimator sk-toggleable\"><input class=\"sk-toggleable__control sk-hidden--visually\" id=\"sk-estimator-id-4\" type=\"checkbox\" ><label for=\"sk-estimator-id-4\" class=\"sk-toggleable__label sk-toggleable__label-arrow\">LogisticRegression</label><div class=\"sk-toggleable__content\"><pre>LogisticRegression()</pre></div></div></div></div></div></div></div></div></div></div>"
            ]
          },
          "metadata": {},
          "execution_count": 18
        }
      ]
    },
    {
      "cell_type": "code",
      "source": [
        "grid.best_params_"
      ],
      "metadata": {
        "colab": {
          "base_uri": "https://localhost:8080/"
        },
        "id": "bz9oqWpR1-2U",
        "outputId": "ff961fd5-6eb3-47ea-8b58-67e9b7eb3b5f"
      },
      "execution_count": 19,
      "outputs": [
        {
          "output_type": "execute_result",
          "data": {
            "text/plain": [
              "{'C': 0.1, 'penalty': 'l2', 'solver': 'lbfgs'}"
            ]
          },
          "metadata": {},
          "execution_count": 19
        }
      ]
    },
    {
      "cell_type": "code",
      "source": [
        "grid.best_score_"
      ],
      "metadata": {
        "colab": {
          "base_uri": "https://localhost:8080/"
        },
        "id": "5isJCjSJ1-xI",
        "outputId": "c409ea73-51d6-4182-dfa9-b7188bb3f871"
      },
      "execution_count": 20,
      "outputs": [
        {
          "output_type": "execute_result",
          "data": {
            "text/plain": [
              "0.8671428571428572"
            ]
          },
          "metadata": {},
          "execution_count": 20
        }
      ]
    },
    {
      "cell_type": "code",
      "source": [
        "y_pred=grid.predict(X_test)\n",
        "\n",
        "y_pred"
      ],
      "metadata": {
        "colab": {
          "base_uri": "https://localhost:8080/"
        },
        "id": "E586qKB8P8bP",
        "outputId": "56019cba-b475-4f08-f0ad-8b2be978abff"
      },
      "execution_count": 21,
      "outputs": [
        {
          "output_type": "execute_result",
          "data": {
            "text/plain": [
              "array([1, 1, 1, 1, 1, 0, 0, 1, 0, 0, 1, 0, 0, 0, 1, 1, 0, 0, 0, 1, 0, 0,\n",
              "       1, 1, 1, 1, 1, 0, 0, 1, 0, 1, 0, 1, 1, 1, 1, 1, 0, 1, 1, 1, 0, 0,\n",
              "       0, 1, 0, 1, 0, 0, 0, 1, 0, 0, 1, 1, 1, 0, 0, 0, 1, 1, 1, 1, 0, 0,\n",
              "       0, 0, 1, 1, 1, 1, 0, 1, 0, 1, 0, 0, 0, 1, 1, 0, 0, 1, 0, 0, 0, 1,\n",
              "       0, 0, 0, 0, 0, 1, 0, 1, 0, 1, 1, 1, 1, 0, 0, 0, 0, 0, 1, 0, 1, 0,\n",
              "       0, 0, 1, 1, 1, 1, 1, 1, 0, 1, 1, 0, 1, 0, 1, 1, 1, 0, 1, 1, 0, 0,\n",
              "       1, 0, 1, 1, 1, 0, 1, 1, 0, 0, 1, 1, 1, 0, 0, 0, 1, 1, 1, 0, 0, 1,\n",
              "       1, 0, 0, 0, 0, 0, 1, 1, 1, 0, 1, 1, 1, 1, 1, 0, 1, 1, 0, 1, 1, 0,\n",
              "       0, 0, 0, 0, 0, 0, 1, 1, 0, 0, 0, 1, 1, 1, 1, 0, 0, 0, 0, 1, 0, 1,\n",
              "       1, 0, 0, 0, 1, 1, 0, 0, 1, 1, 0, 1, 1, 0, 0, 0, 1, 1, 1, 1, 0, 0,\n",
              "       1, 0, 0, 1, 0, 0, 0, 0, 0, 0, 0, 1, 0, 1, 0, 1, 0, 1, 1, 0, 0, 1,\n",
              "       1, 1, 0, 1, 1, 0, 1, 0, 0, 0, 1, 0, 0, 1, 1, 0, 0, 1, 0, 0, 1, 0,\n",
              "       1, 0, 1, 0, 1, 0, 0, 0, 0, 1, 0, 1, 1, 0, 0, 0, 1, 1, 0, 0, 0, 1,\n",
              "       1, 1, 1, 1, 1, 1, 1, 1, 0, 0, 1, 0, 1, 0])"
            ]
          },
          "metadata": {},
          "execution_count": 21
        }
      ]
    },
    {
      "cell_type": "code",
      "source": [
        "score=accuracy_score(y_test,y_pred)\n",
        "print(score)\n",
        "\n",
        "cm=confusion_matrix(y_test,y_pred)\n",
        "print(cm)\n",
        "\n",
        "report=classification_report(y_test,y_pred)\n",
        "print(report)\n",
        "\n",
        "\" change random state value and will get different score each time\""
      ],
      "metadata": {
        "colab": {
          "base_uri": "https://localhost:8080/",
          "height": 253
        },
        "id": "E-i2MQ0gP8oS",
        "outputId": "1d9a56a1-1913-40c9-ac80-2d5c3eb79725"
      },
      "execution_count": 22,
      "outputs": [
        {
          "output_type": "stream",
          "name": "stdout",
          "text": [
            "0.86\n",
            "[[129  20]\n",
            " [ 22 129]]\n",
            "              precision    recall  f1-score   support\n",
            "\n",
            "           0       0.85      0.87      0.86       149\n",
            "           1       0.87      0.85      0.86       151\n",
            "\n",
            "    accuracy                           0.86       300\n",
            "   macro avg       0.86      0.86      0.86       300\n",
            "weighted avg       0.86      0.86      0.86       300\n",
            "\n"
          ]
        },
        {
          "output_type": "execute_result",
          "data": {
            "text/plain": [
              "' change random state value and will get different score each time'"
            ],
            "application/vnd.google.colaboratory.intrinsic+json": {
              "type": "string"
            }
          },
          "metadata": {},
          "execution_count": 22
        }
      ]
    },
    {
      "cell_type": "markdown",
      "source": [
        "**Randomized SearchCV**"
      ],
      "metadata": {
        "id": "D-nyCvnFOOzx"
      }
    },
    {
      "cell_type": "code",
      "source": [
        "from sklearn.model_selection import RandomizedSearchCV"
      ],
      "metadata": {
        "id": "yJKrPxjSP8rO"
      },
      "execution_count": 23,
      "outputs": []
    },
    {
      "cell_type": "code",
      "source": [
        "model=LogisticRegression()\n",
        "\n",
        "randomcv=RandomizedSearchCV(estimator=model,param_distributions=params,cv=5,scoring='accuracy')\n",
        "\n",
        "print(randomcv)"
      ],
      "metadata": {
        "colab": {
          "base_uri": "https://localhost:8080/"
        },
        "id": "FNqGf5ODP8tz",
        "outputId": "f0af2546-101a-4aea-850b-3669387bb0f0"
      },
      "execution_count": 24,
      "outputs": [
        {
          "output_type": "stream",
          "name": "stdout",
          "text": [
            "RandomizedSearchCV(cv=5, estimator=LogisticRegression(),\n",
            "                   param_distributions={'C': [100, 10, 1.0, 0.1, 0.01],\n",
            "                                        'penalty': ['l2'],\n",
            "                                        'solver': ['lbfgs', 'liblinear',\n",
            "                                                   'newton-cg',\n",
            "                                                   'newton-cholesky', 'sag',\n",
            "                                                   'saga']},\n",
            "                   scoring='accuracy')\n"
          ]
        }
      ]
    },
    {
      "cell_type": "code",
      "source": [
        "randomcv.fit(X_train,y_train)"
      ],
      "metadata": {
        "colab": {
          "base_uri": "https://localhost:8080/",
          "height": 1000
        },
        "id": "WIgErO6FP8wj",
        "outputId": "8481fb7a-ad4b-4b08-a8f3-e40741127f35"
      },
      "execution_count": 25,
      "outputs": [
        {
          "output_type": "stream",
          "name": "stderr",
          "text": [
            "/usr/local/lib/python3.10/dist-packages/sklearn/utils/validation.py:1183: DataConversionWarning: A column-vector y was passed when a 1d array was expected. Please change the shape of y to (n_samples, ), for example using ravel().\n",
            "  y = column_or_1d(y, warn=True)\n",
            "/usr/local/lib/python3.10/dist-packages/sklearn/utils/validation.py:1183: DataConversionWarning: A column-vector y was passed when a 1d array was expected. Please change the shape of y to (n_samples, ), for example using ravel().\n",
            "  y = column_or_1d(y, warn=True)\n",
            "/usr/local/lib/python3.10/dist-packages/sklearn/utils/validation.py:1183: DataConversionWarning: A column-vector y was passed when a 1d array was expected. Please change the shape of y to (n_samples, ), for example using ravel().\n",
            "  y = column_or_1d(y, warn=True)\n",
            "/usr/local/lib/python3.10/dist-packages/sklearn/utils/validation.py:1183: DataConversionWarning: A column-vector y was passed when a 1d array was expected. Please change the shape of y to (n_samples, ), for example using ravel().\n",
            "  y = column_or_1d(y, warn=True)\n",
            "/usr/local/lib/python3.10/dist-packages/sklearn/utils/validation.py:1183: DataConversionWarning: A column-vector y was passed when a 1d array was expected. Please change the shape of y to (n_samples, ), for example using ravel().\n",
            "  y = column_or_1d(y, warn=True)\n",
            "/usr/local/lib/python3.10/dist-packages/sklearn/utils/validation.py:1183: DataConversionWarning: A column-vector y was passed when a 1d array was expected. Please change the shape of y to (n_samples, ), for example using ravel().\n",
            "  y = column_or_1d(y, warn=True)\n",
            "/usr/local/lib/python3.10/dist-packages/sklearn/utils/validation.py:1183: DataConversionWarning: A column-vector y was passed when a 1d array was expected. Please change the shape of y to (n_samples, ), for example using ravel().\n",
            "  y = column_or_1d(y, warn=True)\n",
            "/usr/local/lib/python3.10/dist-packages/sklearn/utils/validation.py:1183: DataConversionWarning: A column-vector y was passed when a 1d array was expected. Please change the shape of y to (n_samples, ), for example using ravel().\n",
            "  y = column_or_1d(y, warn=True)\n",
            "/usr/local/lib/python3.10/dist-packages/sklearn/utils/validation.py:1183: DataConversionWarning: A column-vector y was passed when a 1d array was expected. Please change the shape of y to (n_samples, ), for example using ravel().\n",
            "  y = column_or_1d(y, warn=True)\n",
            "/usr/local/lib/python3.10/dist-packages/sklearn/utils/validation.py:1183: DataConversionWarning: A column-vector y was passed when a 1d array was expected. Please change the shape of y to (n_samples, ), for example using ravel().\n",
            "  y = column_or_1d(y, warn=True)\n",
            "/usr/local/lib/python3.10/dist-packages/sklearn/utils/validation.py:1183: DataConversionWarning: A column-vector y was passed when a 1d array was expected. Please change the shape of y to (n_samples, ), for example using ravel().\n",
            "  y = column_or_1d(y, warn=True)\n",
            "/usr/local/lib/python3.10/dist-packages/sklearn/utils/validation.py:1183: DataConversionWarning: A column-vector y was passed when a 1d array was expected. Please change the shape of y to (n_samples, ), for example using ravel().\n",
            "  y = column_or_1d(y, warn=True)\n",
            "/usr/local/lib/python3.10/dist-packages/sklearn/utils/validation.py:1183: DataConversionWarning: A column-vector y was passed when a 1d array was expected. Please change the shape of y to (n_samples, ), for example using ravel().\n",
            "  y = column_or_1d(y, warn=True)\n",
            "/usr/local/lib/python3.10/dist-packages/sklearn/utils/validation.py:1183: DataConversionWarning: A column-vector y was passed when a 1d array was expected. Please change the shape of y to (n_samples, ), for example using ravel().\n",
            "  y = column_or_1d(y, warn=True)\n",
            "/usr/local/lib/python3.10/dist-packages/sklearn/utils/validation.py:1183: DataConversionWarning: A column-vector y was passed when a 1d array was expected. Please change the shape of y to (n_samples, ), for example using ravel().\n",
            "  y = column_or_1d(y, warn=True)\n",
            "/usr/local/lib/python3.10/dist-packages/sklearn/utils/validation.py:1183: DataConversionWarning: A column-vector y was passed when a 1d array was expected. Please change the shape of y to (n_samples, ), for example using ravel().\n",
            "  y = column_or_1d(y, warn=True)\n",
            "/usr/local/lib/python3.10/dist-packages/sklearn/utils/validation.py:1183: DataConversionWarning: A column-vector y was passed when a 1d array was expected. Please change the shape of y to (n_samples, ), for example using ravel().\n",
            "  y = column_or_1d(y, warn=True)\n",
            "/usr/local/lib/python3.10/dist-packages/sklearn/utils/validation.py:1183: DataConversionWarning: A column-vector y was passed when a 1d array was expected. Please change the shape of y to (n_samples, ), for example using ravel().\n",
            "  y = column_or_1d(y, warn=True)\n",
            "/usr/local/lib/python3.10/dist-packages/sklearn/utils/validation.py:1183: DataConversionWarning: A column-vector y was passed when a 1d array was expected. Please change the shape of y to (n_samples, ), for example using ravel().\n",
            "  y = column_or_1d(y, warn=True)\n",
            "/usr/local/lib/python3.10/dist-packages/sklearn/utils/validation.py:1183: DataConversionWarning: A column-vector y was passed when a 1d array was expected. Please change the shape of y to (n_samples, ), for example using ravel().\n",
            "  y = column_or_1d(y, warn=True)\n",
            "/usr/local/lib/python3.10/dist-packages/sklearn/utils/validation.py:1183: DataConversionWarning: A column-vector y was passed when a 1d array was expected. Please change the shape of y to (n_samples, ), for example using ravel().\n",
            "  y = column_or_1d(y, warn=True)\n",
            "/usr/local/lib/python3.10/dist-packages/sklearn/utils/validation.py:1183: DataConversionWarning: A column-vector y was passed when a 1d array was expected. Please change the shape of y to (n_samples, ), for example using ravel().\n",
            "  y = column_or_1d(y, warn=True)\n",
            "/usr/local/lib/python3.10/dist-packages/sklearn/utils/validation.py:1183: DataConversionWarning: A column-vector y was passed when a 1d array was expected. Please change the shape of y to (n_samples, ), for example using ravel().\n",
            "  y = column_or_1d(y, warn=True)\n",
            "/usr/local/lib/python3.10/dist-packages/sklearn/utils/validation.py:1183: DataConversionWarning: A column-vector y was passed when a 1d array was expected. Please change the shape of y to (n_samples, ), for example using ravel().\n",
            "  y = column_or_1d(y, warn=True)\n",
            "/usr/local/lib/python3.10/dist-packages/sklearn/utils/validation.py:1183: DataConversionWarning: A column-vector y was passed when a 1d array was expected. Please change the shape of y to (n_samples, ), for example using ravel().\n",
            "  y = column_or_1d(y, warn=True)\n",
            "/usr/local/lib/python3.10/dist-packages/sklearn/utils/validation.py:1183: DataConversionWarning: A column-vector y was passed when a 1d array was expected. Please change the shape of y to (n_samples, ), for example using ravel().\n",
            "  y = column_or_1d(y, warn=True)\n",
            "/usr/local/lib/python3.10/dist-packages/sklearn/utils/validation.py:1183: DataConversionWarning: A column-vector y was passed when a 1d array was expected. Please change the shape of y to (n_samples, ), for example using ravel().\n",
            "  y = column_or_1d(y, warn=True)\n",
            "/usr/local/lib/python3.10/dist-packages/sklearn/utils/validation.py:1183: DataConversionWarning: A column-vector y was passed when a 1d array was expected. Please change the shape of y to (n_samples, ), for example using ravel().\n",
            "  y = column_or_1d(y, warn=True)\n",
            "/usr/local/lib/python3.10/dist-packages/sklearn/utils/validation.py:1183: DataConversionWarning: A column-vector y was passed when a 1d array was expected. Please change the shape of y to (n_samples, ), for example using ravel().\n",
            "  y = column_or_1d(y, warn=True)\n",
            "/usr/local/lib/python3.10/dist-packages/sklearn/utils/validation.py:1183: DataConversionWarning: A column-vector y was passed when a 1d array was expected. Please change the shape of y to (n_samples, ), for example using ravel().\n",
            "  y = column_or_1d(y, warn=True)\n",
            "/usr/local/lib/python3.10/dist-packages/sklearn/utils/validation.py:1183: DataConversionWarning: A column-vector y was passed when a 1d array was expected. Please change the shape of y to (n_samples, ), for example using ravel().\n",
            "  y = column_or_1d(y, warn=True)\n",
            "/usr/local/lib/python3.10/dist-packages/sklearn/utils/validation.py:1183: DataConversionWarning: A column-vector y was passed when a 1d array was expected. Please change the shape of y to (n_samples, ), for example using ravel().\n",
            "  y = column_or_1d(y, warn=True)\n",
            "/usr/local/lib/python3.10/dist-packages/sklearn/utils/validation.py:1183: DataConversionWarning: A column-vector y was passed when a 1d array was expected. Please change the shape of y to (n_samples, ), for example using ravel().\n",
            "  y = column_or_1d(y, warn=True)\n",
            "/usr/local/lib/python3.10/dist-packages/sklearn/utils/validation.py:1183: DataConversionWarning: A column-vector y was passed when a 1d array was expected. Please change the shape of y to (n_samples, ), for example using ravel().\n",
            "  y = column_or_1d(y, warn=True)\n",
            "/usr/local/lib/python3.10/dist-packages/sklearn/utils/validation.py:1183: DataConversionWarning: A column-vector y was passed when a 1d array was expected. Please change the shape of y to (n_samples, ), for example using ravel().\n",
            "  y = column_or_1d(y, warn=True)\n",
            "/usr/local/lib/python3.10/dist-packages/sklearn/utils/validation.py:1183: DataConversionWarning: A column-vector y was passed when a 1d array was expected. Please change the shape of y to (n_samples, ), for example using ravel().\n",
            "  y = column_or_1d(y, warn=True)\n",
            "/usr/local/lib/python3.10/dist-packages/sklearn/utils/validation.py:1183: DataConversionWarning: A column-vector y was passed when a 1d array was expected. Please change the shape of y to (n_samples, ), for example using ravel().\n",
            "  y = column_or_1d(y, warn=True)\n",
            "/usr/local/lib/python3.10/dist-packages/sklearn/utils/validation.py:1183: DataConversionWarning: A column-vector y was passed when a 1d array was expected. Please change the shape of y to (n_samples, ), for example using ravel().\n",
            "  y = column_or_1d(y, warn=True)\n",
            "/usr/local/lib/python3.10/dist-packages/sklearn/utils/validation.py:1183: DataConversionWarning: A column-vector y was passed when a 1d array was expected. Please change the shape of y to (n_samples, ), for example using ravel().\n",
            "  y = column_or_1d(y, warn=True)\n",
            "/usr/local/lib/python3.10/dist-packages/sklearn/utils/validation.py:1183: DataConversionWarning: A column-vector y was passed when a 1d array was expected. Please change the shape of y to (n_samples, ), for example using ravel().\n",
            "  y = column_or_1d(y, warn=True)\n",
            "/usr/local/lib/python3.10/dist-packages/sklearn/utils/validation.py:1183: DataConversionWarning: A column-vector y was passed when a 1d array was expected. Please change the shape of y to (n_samples, ), for example using ravel().\n",
            "  y = column_or_1d(y, warn=True)\n",
            "/usr/local/lib/python3.10/dist-packages/sklearn/utils/validation.py:1183: DataConversionWarning: A column-vector y was passed when a 1d array was expected. Please change the shape of y to (n_samples, ), for example using ravel().\n",
            "  y = column_or_1d(y, warn=True)\n",
            "/usr/local/lib/python3.10/dist-packages/sklearn/utils/validation.py:1183: DataConversionWarning: A column-vector y was passed when a 1d array was expected. Please change the shape of y to (n_samples, ), for example using ravel().\n",
            "  y = column_or_1d(y, warn=True)\n",
            "/usr/local/lib/python3.10/dist-packages/sklearn/utils/validation.py:1183: DataConversionWarning: A column-vector y was passed when a 1d array was expected. Please change the shape of y to (n_samples, ), for example using ravel().\n",
            "  y = column_or_1d(y, warn=True)\n",
            "/usr/local/lib/python3.10/dist-packages/sklearn/utils/validation.py:1183: DataConversionWarning: A column-vector y was passed when a 1d array was expected. Please change the shape of y to (n_samples, ), for example using ravel().\n",
            "  y = column_or_1d(y, warn=True)\n",
            "/usr/local/lib/python3.10/dist-packages/sklearn/utils/validation.py:1183: DataConversionWarning: A column-vector y was passed when a 1d array was expected. Please change the shape of y to (n_samples, ), for example using ravel().\n",
            "  y = column_or_1d(y, warn=True)\n",
            "/usr/local/lib/python3.10/dist-packages/sklearn/utils/validation.py:1183: DataConversionWarning: A column-vector y was passed when a 1d array was expected. Please change the shape of y to (n_samples, ), for example using ravel().\n",
            "  y = column_or_1d(y, warn=True)\n",
            "/usr/local/lib/python3.10/dist-packages/sklearn/utils/validation.py:1183: DataConversionWarning: A column-vector y was passed when a 1d array was expected. Please change the shape of y to (n_samples, ), for example using ravel().\n",
            "  y = column_or_1d(y, warn=True)\n",
            "/usr/local/lib/python3.10/dist-packages/sklearn/utils/validation.py:1183: DataConversionWarning: A column-vector y was passed when a 1d array was expected. Please change the shape of y to (n_samples, ), for example using ravel().\n",
            "  y = column_or_1d(y, warn=True)\n",
            "/usr/local/lib/python3.10/dist-packages/sklearn/utils/validation.py:1183: DataConversionWarning: A column-vector y was passed when a 1d array was expected. Please change the shape of y to (n_samples, ), for example using ravel().\n",
            "  y = column_or_1d(y, warn=True)\n",
            "/usr/local/lib/python3.10/dist-packages/sklearn/utils/validation.py:1183: DataConversionWarning: A column-vector y was passed when a 1d array was expected. Please change the shape of y to (n_samples, ), for example using ravel().\n",
            "  y = column_or_1d(y, warn=True)\n"
          ]
        },
        {
          "output_type": "execute_result",
          "data": {
            "text/plain": [
              "RandomizedSearchCV(cv=5, estimator=LogisticRegression(),\n",
              "                   param_distributions={'C': [100, 10, 1.0, 0.1, 0.01],\n",
              "                                        'penalty': ['l2'],\n",
              "                                        'solver': ['lbfgs', 'liblinear',\n",
              "                                                   'newton-cg',\n",
              "                                                   'newton-cholesky', 'sag',\n",
              "                                                   'saga']},\n",
              "                   scoring='accuracy')"
            ],
            "text/html": [
              "<style>#sk-container-id-3 {color: black;}#sk-container-id-3 pre{padding: 0;}#sk-container-id-3 div.sk-toggleable {background-color: white;}#sk-container-id-3 label.sk-toggleable__label {cursor: pointer;display: block;width: 100%;margin-bottom: 0;padding: 0.3em;box-sizing: border-box;text-align: center;}#sk-container-id-3 label.sk-toggleable__label-arrow:before {content: \"▸\";float: left;margin-right: 0.25em;color: #696969;}#sk-container-id-3 label.sk-toggleable__label-arrow:hover:before {color: black;}#sk-container-id-3 div.sk-estimator:hover label.sk-toggleable__label-arrow:before {color: black;}#sk-container-id-3 div.sk-toggleable__content {max-height: 0;max-width: 0;overflow: hidden;text-align: left;background-color: #f0f8ff;}#sk-container-id-3 div.sk-toggleable__content pre {margin: 0.2em;color: black;border-radius: 0.25em;background-color: #f0f8ff;}#sk-container-id-3 input.sk-toggleable__control:checked~div.sk-toggleable__content {max-height: 200px;max-width: 100%;overflow: auto;}#sk-container-id-3 input.sk-toggleable__control:checked~label.sk-toggleable__label-arrow:before {content: \"▾\";}#sk-container-id-3 div.sk-estimator input.sk-toggleable__control:checked~label.sk-toggleable__label {background-color: #d4ebff;}#sk-container-id-3 div.sk-label input.sk-toggleable__control:checked~label.sk-toggleable__label {background-color: #d4ebff;}#sk-container-id-3 input.sk-hidden--visually {border: 0;clip: rect(1px 1px 1px 1px);clip: rect(1px, 1px, 1px, 1px);height: 1px;margin: -1px;overflow: hidden;padding: 0;position: absolute;width: 1px;}#sk-container-id-3 div.sk-estimator {font-family: monospace;background-color: #f0f8ff;border: 1px dotted black;border-radius: 0.25em;box-sizing: border-box;margin-bottom: 0.5em;}#sk-container-id-3 div.sk-estimator:hover {background-color: #d4ebff;}#sk-container-id-3 div.sk-parallel-item::after {content: \"\";width: 100%;border-bottom: 1px solid gray;flex-grow: 1;}#sk-container-id-3 div.sk-label:hover label.sk-toggleable__label {background-color: #d4ebff;}#sk-container-id-3 div.sk-serial::before {content: \"\";position: absolute;border-left: 1px solid gray;box-sizing: border-box;top: 0;bottom: 0;left: 50%;z-index: 0;}#sk-container-id-3 div.sk-serial {display: flex;flex-direction: column;align-items: center;background-color: white;padding-right: 0.2em;padding-left: 0.2em;position: relative;}#sk-container-id-3 div.sk-item {position: relative;z-index: 1;}#sk-container-id-3 div.sk-parallel {display: flex;align-items: stretch;justify-content: center;background-color: white;position: relative;}#sk-container-id-3 div.sk-item::before, #sk-container-id-3 div.sk-parallel-item::before {content: \"\";position: absolute;border-left: 1px solid gray;box-sizing: border-box;top: 0;bottom: 0;left: 50%;z-index: -1;}#sk-container-id-3 div.sk-parallel-item {display: flex;flex-direction: column;z-index: 1;position: relative;background-color: white;}#sk-container-id-3 div.sk-parallel-item:first-child::after {align-self: flex-end;width: 50%;}#sk-container-id-3 div.sk-parallel-item:last-child::after {align-self: flex-start;width: 50%;}#sk-container-id-3 div.sk-parallel-item:only-child::after {width: 0;}#sk-container-id-3 div.sk-dashed-wrapped {border: 1px dashed gray;margin: 0 0.4em 0.5em 0.4em;box-sizing: border-box;padding-bottom: 0.4em;background-color: white;}#sk-container-id-3 div.sk-label label {font-family: monospace;font-weight: bold;display: inline-block;line-height: 1.2em;}#sk-container-id-3 div.sk-label-container {text-align: center;}#sk-container-id-3 div.sk-container {/* jupyter's `normalize.less` sets `[hidden] { display: none; }` but bootstrap.min.css set `[hidden] { display: none !important; }` so we also need the `!important` here to be able to override the default hidden behavior on the sphinx rendered scikit-learn.org. See: https://github.com/scikit-learn/scikit-learn/issues/21755 */display: inline-block !important;position: relative;}#sk-container-id-3 div.sk-text-repr-fallback {display: none;}</style><div id=\"sk-container-id-3\" class=\"sk-top-container\"><div class=\"sk-text-repr-fallback\"><pre>RandomizedSearchCV(cv=5, estimator=LogisticRegression(),\n",
              "                   param_distributions={&#x27;C&#x27;: [100, 10, 1.0, 0.1, 0.01],\n",
              "                                        &#x27;penalty&#x27;: [&#x27;l2&#x27;],\n",
              "                                        &#x27;solver&#x27;: [&#x27;lbfgs&#x27;, &#x27;liblinear&#x27;,\n",
              "                                                   &#x27;newton-cg&#x27;,\n",
              "                                                   &#x27;newton-cholesky&#x27;, &#x27;sag&#x27;,\n",
              "                                                   &#x27;saga&#x27;]},\n",
              "                   scoring=&#x27;accuracy&#x27;)</pre><b>In a Jupyter environment, please rerun this cell to show the HTML representation or trust the notebook. <br />On GitHub, the HTML representation is unable to render, please try loading this page with nbviewer.org.</b></div><div class=\"sk-container\" hidden><div class=\"sk-item sk-dashed-wrapped\"><div class=\"sk-label-container\"><div class=\"sk-label sk-toggleable\"><input class=\"sk-toggleable__control sk-hidden--visually\" id=\"sk-estimator-id-5\" type=\"checkbox\" ><label for=\"sk-estimator-id-5\" class=\"sk-toggleable__label sk-toggleable__label-arrow\">RandomizedSearchCV</label><div class=\"sk-toggleable__content\"><pre>RandomizedSearchCV(cv=5, estimator=LogisticRegression(),\n",
              "                   param_distributions={&#x27;C&#x27;: [100, 10, 1.0, 0.1, 0.01],\n",
              "                                        &#x27;penalty&#x27;: [&#x27;l2&#x27;],\n",
              "                                        &#x27;solver&#x27;: [&#x27;lbfgs&#x27;, &#x27;liblinear&#x27;,\n",
              "                                                   &#x27;newton-cg&#x27;,\n",
              "                                                   &#x27;newton-cholesky&#x27;, &#x27;sag&#x27;,\n",
              "                                                   &#x27;saga&#x27;]},\n",
              "                   scoring=&#x27;accuracy&#x27;)</pre></div></div></div><div class=\"sk-parallel\"><div class=\"sk-parallel-item\"><div class=\"sk-item\"><div class=\"sk-label-container\"><div class=\"sk-label sk-toggleable\"><input class=\"sk-toggleable__control sk-hidden--visually\" id=\"sk-estimator-id-6\" type=\"checkbox\" ><label for=\"sk-estimator-id-6\" class=\"sk-toggleable__label sk-toggleable__label-arrow\">estimator: LogisticRegression</label><div class=\"sk-toggleable__content\"><pre>LogisticRegression()</pre></div></div></div><div class=\"sk-serial\"><div class=\"sk-item\"><div class=\"sk-estimator sk-toggleable\"><input class=\"sk-toggleable__control sk-hidden--visually\" id=\"sk-estimator-id-7\" type=\"checkbox\" ><label for=\"sk-estimator-id-7\" class=\"sk-toggleable__label sk-toggleable__label-arrow\">LogisticRegression</label><div class=\"sk-toggleable__content\"><pre>LogisticRegression()</pre></div></div></div></div></div></div></div></div></div></div>"
            ]
          },
          "metadata": {},
          "execution_count": 25
        }
      ]
    },
    {
      "cell_type": "code",
      "source": [
        "randomcv.best_score_"
      ],
      "metadata": {
        "colab": {
          "base_uri": "https://localhost:8080/"
        },
        "id": "cfgzAV73P8zF",
        "outputId": "fb77eb0a-4735-4934-aa3a-6befc917c9d9"
      },
      "execution_count": 26,
      "outputs": [
        {
          "output_type": "execute_result",
          "data": {
            "text/plain": [
              "0.8671428571428572"
            ]
          },
          "metadata": {},
          "execution_count": 26
        }
      ]
    },
    {
      "cell_type": "code",
      "source": [
        "randomcv.best_params_"
      ],
      "metadata": {
        "colab": {
          "base_uri": "https://localhost:8080/"
        },
        "id": "XZu_HEaTE2d-",
        "outputId": "61f366fa-a092-4cfc-e4c7-c9492f0b2fed"
      },
      "execution_count": 27,
      "outputs": [
        {
          "output_type": "execute_result",
          "data": {
            "text/plain": [
              "{'solver': 'saga', 'penalty': 'l2', 'C': 0.1}"
            ]
          },
          "metadata": {},
          "execution_count": 27
        }
      ]
    },
    {
      "cell_type": "code",
      "source": [
        "y_pred=randomcv.predict(X_test)\n",
        "y_pred"
      ],
      "metadata": {
        "colab": {
          "base_uri": "https://localhost:8080/"
        },
        "id": "deJ6Lss1E2bT",
        "outputId": "af53b157-9580-4f4e-8baf-a996d74d5937"
      },
      "execution_count": 28,
      "outputs": [
        {
          "output_type": "execute_result",
          "data": {
            "text/plain": [
              "array([1, 1, 1, 1, 1, 0, 0, 1, 0, 0, 1, 0, 0, 0, 1, 1, 0, 0, 0, 1, 0, 0,\n",
              "       1, 1, 1, 1, 1, 0, 0, 1, 0, 1, 0, 1, 1, 1, 1, 1, 0, 1, 1, 1, 0, 0,\n",
              "       0, 1, 0, 1, 0, 0, 0, 1, 0, 0, 1, 1, 1, 0, 0, 0, 1, 1, 1, 1, 0, 0,\n",
              "       0, 0, 1, 1, 1, 1, 0, 1, 0, 1, 0, 0, 0, 1, 1, 0, 0, 1, 0, 0, 0, 1,\n",
              "       0, 0, 0, 0, 0, 1, 0, 1, 0, 1, 1, 1, 1, 0, 0, 0, 0, 0, 1, 0, 1, 0,\n",
              "       0, 0, 1, 1, 1, 1, 1, 1, 0, 1, 1, 0, 1, 0, 1, 1, 1, 0, 1, 1, 0, 0,\n",
              "       1, 0, 1, 1, 1, 0, 1, 1, 0, 0, 1, 1, 1, 0, 0, 0, 1, 1, 1, 0, 0, 1,\n",
              "       1, 0, 0, 0, 0, 0, 1, 1, 1, 0, 1, 1, 1, 1, 1, 0, 1, 1, 0, 1, 1, 0,\n",
              "       0, 0, 0, 0, 0, 0, 1, 1, 0, 0, 0, 1, 1, 1, 1, 0, 0, 0, 0, 1, 0, 1,\n",
              "       1, 0, 0, 0, 1, 1, 0, 0, 1, 1, 0, 1, 1, 0, 0, 0, 1, 1, 1, 1, 0, 0,\n",
              "       1, 0, 0, 1, 0, 0, 0, 0, 0, 0, 0, 1, 0, 1, 0, 1, 0, 1, 1, 0, 0, 1,\n",
              "       1, 1, 0, 1, 1, 0, 1, 0, 0, 0, 1, 0, 0, 1, 1, 0, 0, 1, 0, 0, 1, 0,\n",
              "       1, 0, 1, 0, 1, 0, 0, 0, 0, 1, 0, 1, 1, 0, 0, 0, 1, 1, 0, 0, 0, 1,\n",
              "       1, 1, 1, 1, 1, 1, 1, 1, 0, 0, 1, 0, 1, 0])"
            ]
          },
          "metadata": {},
          "execution_count": 28
        }
      ]
    },
    {
      "cell_type": "code",
      "source": [
        "score=accuracy_score(y_test,y_pred)\n",
        "print(score)\n",
        "\n",
        "cm=confusion_matrix(y_test,y_pred)\n",
        "print(cm)\n",
        "\n",
        "report=classification_report(y_test,y_pred)\n",
        "print(report)\n",
        "\n",
        "\" change random state value and will get different score each time\""
      ],
      "metadata": {
        "colab": {
          "base_uri": "https://localhost:8080/",
          "height": 253
        },
        "id": "43FshhhvE2Vq",
        "outputId": "7c95975a-60bf-4152-de12-6109b6c67759"
      },
      "execution_count": 29,
      "outputs": [
        {
          "output_type": "stream",
          "name": "stdout",
          "text": [
            "0.86\n",
            "[[129  20]\n",
            " [ 22 129]]\n",
            "              precision    recall  f1-score   support\n",
            "\n",
            "           0       0.85      0.87      0.86       149\n",
            "           1       0.87      0.85      0.86       151\n",
            "\n",
            "    accuracy                           0.86       300\n",
            "   macro avg       0.86      0.86      0.86       300\n",
            "weighted avg       0.86      0.86      0.86       300\n",
            "\n"
          ]
        },
        {
          "output_type": "execute_result",
          "data": {
            "text/plain": [
              "' change random state value and will get different score each time'"
            ],
            "application/vnd.google.colaboratory.intrinsic+json": {
              "type": "string"
            }
          },
          "metadata": {},
          "execution_count": 29
        }
      ]
    },
    {
      "cell_type": "markdown",
      "source": [
        "**Logistic Regression For Multiclass Classification Problem**"
      ],
      "metadata": {
        "id": "Cick4Ih2R1Gk"
      }
    },
    {
      "cell_type": "code",
      "source": [
        "X,y=make_classification(n_samples=1000,n_features=10,n_classes=3,n_informative=3,random_state=42)\n",
        "\n",
        "#n_informative require otherwise it will not take more than 2 classes"
      ],
      "metadata": {
        "id": "srx53SSNSEvn"
      },
      "execution_count": 30,
      "outputs": []
    },
    {
      "cell_type": "code",
      "source": [
        "X_train,X_test,y_train,y_test=train_test_split(X,y,test_size=0.25,random_state=10)"
      ],
      "metadata": {
        "id": "gOUOtH3pSEsU"
      },
      "execution_count": 31,
      "outputs": []
    },
    {
      "cell_type": "code",
      "source": [
        "logistic=LogisticRegression(multi_class=\"ovr\")\n",
        "\n",
        "logistic.fit(X_train,y_train)\n"
      ],
      "metadata": {
        "colab": {
          "base_uri": "https://localhost:8080/",
          "height": 74
        },
        "id": "8stmLUdvSEp5",
        "outputId": "d60a370e-18d4-4be7-94e1-a7ee08c8b926"
      },
      "execution_count": 32,
      "outputs": [
        {
          "output_type": "execute_result",
          "data": {
            "text/plain": [
              "LogisticRegression(multi_class='ovr')"
            ],
            "text/html": [
              "<style>#sk-container-id-4 {color: black;}#sk-container-id-4 pre{padding: 0;}#sk-container-id-4 div.sk-toggleable {background-color: white;}#sk-container-id-4 label.sk-toggleable__label {cursor: pointer;display: block;width: 100%;margin-bottom: 0;padding: 0.3em;box-sizing: border-box;text-align: center;}#sk-container-id-4 label.sk-toggleable__label-arrow:before {content: \"▸\";float: left;margin-right: 0.25em;color: #696969;}#sk-container-id-4 label.sk-toggleable__label-arrow:hover:before {color: black;}#sk-container-id-4 div.sk-estimator:hover label.sk-toggleable__label-arrow:before {color: black;}#sk-container-id-4 div.sk-toggleable__content {max-height: 0;max-width: 0;overflow: hidden;text-align: left;background-color: #f0f8ff;}#sk-container-id-4 div.sk-toggleable__content pre {margin: 0.2em;color: black;border-radius: 0.25em;background-color: #f0f8ff;}#sk-container-id-4 input.sk-toggleable__control:checked~div.sk-toggleable__content {max-height: 200px;max-width: 100%;overflow: auto;}#sk-container-id-4 input.sk-toggleable__control:checked~label.sk-toggleable__label-arrow:before {content: \"▾\";}#sk-container-id-4 div.sk-estimator input.sk-toggleable__control:checked~label.sk-toggleable__label {background-color: #d4ebff;}#sk-container-id-4 div.sk-label input.sk-toggleable__control:checked~label.sk-toggleable__label {background-color: #d4ebff;}#sk-container-id-4 input.sk-hidden--visually {border: 0;clip: rect(1px 1px 1px 1px);clip: rect(1px, 1px, 1px, 1px);height: 1px;margin: -1px;overflow: hidden;padding: 0;position: absolute;width: 1px;}#sk-container-id-4 div.sk-estimator {font-family: monospace;background-color: #f0f8ff;border: 1px dotted black;border-radius: 0.25em;box-sizing: border-box;margin-bottom: 0.5em;}#sk-container-id-4 div.sk-estimator:hover {background-color: #d4ebff;}#sk-container-id-4 div.sk-parallel-item::after {content: \"\";width: 100%;border-bottom: 1px solid gray;flex-grow: 1;}#sk-container-id-4 div.sk-label:hover label.sk-toggleable__label {background-color: #d4ebff;}#sk-container-id-4 div.sk-serial::before {content: \"\";position: absolute;border-left: 1px solid gray;box-sizing: border-box;top: 0;bottom: 0;left: 50%;z-index: 0;}#sk-container-id-4 div.sk-serial {display: flex;flex-direction: column;align-items: center;background-color: white;padding-right: 0.2em;padding-left: 0.2em;position: relative;}#sk-container-id-4 div.sk-item {position: relative;z-index: 1;}#sk-container-id-4 div.sk-parallel {display: flex;align-items: stretch;justify-content: center;background-color: white;position: relative;}#sk-container-id-4 div.sk-item::before, #sk-container-id-4 div.sk-parallel-item::before {content: \"\";position: absolute;border-left: 1px solid gray;box-sizing: border-box;top: 0;bottom: 0;left: 50%;z-index: -1;}#sk-container-id-4 div.sk-parallel-item {display: flex;flex-direction: column;z-index: 1;position: relative;background-color: white;}#sk-container-id-4 div.sk-parallel-item:first-child::after {align-self: flex-end;width: 50%;}#sk-container-id-4 div.sk-parallel-item:last-child::after {align-self: flex-start;width: 50%;}#sk-container-id-4 div.sk-parallel-item:only-child::after {width: 0;}#sk-container-id-4 div.sk-dashed-wrapped {border: 1px dashed gray;margin: 0 0.4em 0.5em 0.4em;box-sizing: border-box;padding-bottom: 0.4em;background-color: white;}#sk-container-id-4 div.sk-label label {font-family: monospace;font-weight: bold;display: inline-block;line-height: 1.2em;}#sk-container-id-4 div.sk-label-container {text-align: center;}#sk-container-id-4 div.sk-container {/* jupyter's `normalize.less` sets `[hidden] { display: none; }` but bootstrap.min.css set `[hidden] { display: none !important; }` so we also need the `!important` here to be able to override the default hidden behavior on the sphinx rendered scikit-learn.org. See: https://github.com/scikit-learn/scikit-learn/issues/21755 */display: inline-block !important;position: relative;}#sk-container-id-4 div.sk-text-repr-fallback {display: none;}</style><div id=\"sk-container-id-4\" class=\"sk-top-container\"><div class=\"sk-text-repr-fallback\"><pre>LogisticRegression(multi_class=&#x27;ovr&#x27;)</pre><b>In a Jupyter environment, please rerun this cell to show the HTML representation or trust the notebook. <br />On GitHub, the HTML representation is unable to render, please try loading this page with nbviewer.org.</b></div><div class=\"sk-container\" hidden><div class=\"sk-item\"><div class=\"sk-estimator sk-toggleable\"><input class=\"sk-toggleable__control sk-hidden--visually\" id=\"sk-estimator-id-8\" type=\"checkbox\" checked><label for=\"sk-estimator-id-8\" class=\"sk-toggleable__label sk-toggleable__label-arrow\">LogisticRegression</label><div class=\"sk-toggleable__content\"><pre>LogisticRegression(multi_class=&#x27;ovr&#x27;)</pre></div></div></div></div></div>"
            ]
          },
          "metadata": {},
          "execution_count": 32
        }
      ]
    },
    {
      "cell_type": "code",
      "source": [
        "y_pred=logistic.predict(X_test)\n",
        "y_pred"
      ],
      "metadata": {
        "colab": {
          "base_uri": "https://localhost:8080/"
        },
        "id": "hIlJk32-SEnm",
        "outputId": "9b87c8ec-f382-4ac1-fc2c-130f98d46528"
      },
      "execution_count": 33,
      "outputs": [
        {
          "output_type": "execute_result",
          "data": {
            "text/plain": [
              "array([2, 1, 0, 2, 2, 0, 2, 1, 0, 0, 0, 2, 0, 2, 0, 2, 0, 0, 0, 2, 1, 2,\n",
              "       0, 2, 2, 2, 1, 0, 2, 0, 2, 2, 2, 2, 1, 0, 2, 1, 0, 0, 1, 0, 2, 2,\n",
              "       1, 0, 0, 1, 2, 0, 0, 2, 1, 2, 0, 0, 1, 2, 1, 2, 2, 1, 0, 2, 0, 1,\n",
              "       2, 2, 1, 0, 2, 0, 0, 0, 2, 2, 2, 2, 0, 1, 2, 2, 1, 2, 2, 0, 2, 2,\n",
              "       0, 1, 2, 1, 0, 2, 0, 0, 2, 2, 0, 0, 1, 0, 0, 1, 2, 0, 0, 0, 0, 0,\n",
              "       2, 2, 2, 2, 2, 1, 1, 1, 0, 1, 0, 2, 0, 0, 1, 2, 2, 0, 0, 0, 0, 0,\n",
              "       0, 2, 0, 2, 0, 2, 0, 1, 0, 0, 0, 0, 2, 2, 0, 0, 0, 2, 1, 0, 0, 0,\n",
              "       2, 1, 2, 0, 1, 1, 1, 0, 0, 2, 0, 0, 0, 2, 2, 1, 0, 0, 2, 0, 0, 2,\n",
              "       2, 1, 1, 0, 0, 2, 0, 0, 2, 1, 1, 0, 0, 1, 0, 2, 0, 2, 0, 2, 2, 2,\n",
              "       0, 2, 2, 0, 2, 2, 2, 0, 0, 1, 2, 2, 2, 0, 0, 0, 0, 1, 2, 0, 0, 2,\n",
              "       2, 2, 1, 0, 0, 2, 0, 2, 0, 2, 2, 2, 0, 0, 1, 1, 2, 2, 2, 0, 0, 0,\n",
              "       1, 2, 1, 2, 2, 0, 0, 1])"
            ]
          },
          "metadata": {},
          "execution_count": 33
        }
      ]
    },
    {
      "cell_type": "code",
      "source": [
        "score=accuracy_score(y_test,y_pred)\n",
        "print(score)\n",
        "\n",
        "cm=confusion_matrix(y_test,y_pred)\n",
        "print(cm)\n",
        "\n",
        "report=classification_report(y_test,y_pred)\n",
        "print(report)\n",
        "\n",
        "\" change random state value and will get different score each time\""
      ],
      "metadata": {
        "colab": {
          "base_uri": "https://localhost:8080/",
          "height": 289
        },
        "id": "rWLKXxtiSElF",
        "outputId": "c921ec28-9432-4385-ea4d-01e5fa66b64f"
      },
      "execution_count": 34,
      "outputs": [
        {
          "output_type": "stream",
          "name": "stdout",
          "text": [
            "0.64\n",
            "[[69 11  6]\n",
            " [37 27 27]\n",
            " [ 1  8 64]]\n",
            "              precision    recall  f1-score   support\n",
            "\n",
            "           0       0.64      0.80      0.72        86\n",
            "           1       0.59      0.30      0.39        91\n",
            "           2       0.66      0.88      0.75        73\n",
            "\n",
            "    accuracy                           0.64       250\n",
            "   macro avg       0.63      0.66      0.62       250\n",
            "weighted avg       0.63      0.64      0.61       250\n",
            "\n"
          ]
        },
        {
          "output_type": "execute_result",
          "data": {
            "text/plain": [
              "' change random state value and will get different score each time'"
            ],
            "application/vnd.google.colaboratory.intrinsic+json": {
              "type": "string"
            }
          },
          "metadata": {},
          "execution_count": 34
        }
      ]
    },
    {
      "cell_type": "markdown",
      "source": [
        "**Logistic Regression for Imbalanced Dataset**"
      ],
      "metadata": {
        "id": "jV8BDhPqTIbw"
      }
    },
    {
      "cell_type": "code",
      "source": [
        "#Generate and plot a synthetic imbalanced classfication dataset\n",
        "\n",
        "from collections import Counter\n",
        "from sklearn.datasets import make_classification\n"
      ],
      "metadata": {
        "id": "7SWhqgFHSEiW"
      },
      "execution_count": 36,
      "outputs": []
    },
    {
      "cell_type": "code",
      "source": [
        "#Imbalanced dataset\n",
        "X,y= make_classification(n_samples=10000,n_features=2,n_clusters_per_class=1,\\\n",
        "                         n_redundant=0,weights=[0.99],random_state=10)\n",
        "\n",
        "#weights=0.99 means one category will be more data points then other category\n"
      ],
      "metadata": {
        "id": "5oe_Ic4lW0wO"
      },
      "execution_count": 44,
      "outputs": []
    },
    {
      "cell_type": "code",
      "source": [
        "Counter(y)"
      ],
      "metadata": {
        "colab": {
          "base_uri": "https://localhost:8080/"
        },
        "id": "CWuYMtLGSEdo",
        "outputId": "ef0c6726-e49e-420e-edb2-96bc05b414dc"
      },
      "execution_count": 45,
      "outputs": [
        {
          "output_type": "execute_result",
          "data": {
            "text/plain": [
              "Counter({0: 9846, 1: 154})"
            ]
          },
          "metadata": {},
          "execution_count": 45
        }
      ]
    },
    {
      "cell_type": "code",
      "source": [
        "#plot X values\n",
        "\n",
        "sns.scatterplot(x=pd.DataFrame(X)[0],y=pd.DataFrame(X)[1],hue=y)"
      ],
      "metadata": {
        "colab": {
          "base_uri": "https://localhost:8080/",
          "height": 467
        },
        "id": "0qSCgP5MSEbT",
        "outputId": "6099815a-0787-4257-8d33-afc9091fd63d"
      },
      "execution_count": 51,
      "outputs": [
        {
          "output_type": "execute_result",
          "data": {
            "text/plain": [
              "<Axes: xlabel='0', ylabel='1'>"
            ]
          },
          "metadata": {},
          "execution_count": 51
        },
        {
          "output_type": "display_data",
          "data": {
            "text/plain": [
              "<Figure size 640x480 with 1 Axes>"
            ],
            "image/png": "[encoded data removed]"
          },
          "metadata": {}
        }
      ]
    },
    {
      "cell_type": "code",
      "source": [
        "#split the dataset in train and test\n",
        "X_train,X_test,y_train,y_test=train_test_split(X,y,test_size=0.30,random_state=50)\n",
        "\n"
      ],
      "metadata": {
        "id": "1eONzaNKSEY8"
      },
      "execution_count": 71,
      "outputs": []
    },
    {
      "cell_type": "code",
      "source": [
        "#hyper parameter tuning\n",
        "model=LogisticRegression()\n",
        "\n",
        "\"DO not use l1 and elasticnet with solver lbfgs\"\n",
        "\"it will give error\"\n",
        "\n",
        "penalty=['l2']\n",
        "c_values=[100,10,1.0,0.1,0.01]\n",
        "solver=['lbfgs','liblinear','newton-cg','newton-cholesky','sag','saga']\n",
        "\n",
        "class_weight=[{0:w,1:y} for w in {1,10,50,100} for y in [1,10,50,100]]\n"
      ],
      "metadata": {
        "id": "4p_fGldNE2Sn"
      },
      "execution_count": 72,
      "outputs": []
    },
    {
      "cell_type": "code",
      "source": [
        "print(class_weight)"
      ],
      "metadata": {
        "colab": {
          "base_uri": "https://localhost:8080/"
        },
        "id": "pv-abduBba3A",
        "outputId": "d074d9ea-2802-461b-d36e-0341e7c6cfb1"
      },
      "execution_count": 73,
      "outputs": [
        {
          "output_type": "stream",
          "name": "stdout",
          "text": [
            "[{0: 1, 1: 1}, {0: 1, 1: 10}, {0: 1, 1: 50}, {0: 1, 1: 100}, {0: 10, 1: 1}, {0: 10, 1: 10}, {0: 10, 1: 50}, {0: 10, 1: 100}, {0: 100, 1: 1}, {0: 100, 1: 10}, {0: 100, 1: 50}, {0: 100, 1: 100}, {0: 50, 1: 1}, {0: 50, 1: 10}, {0: 50, 1: 50}, {0: 50, 1: 100}]\n"
          ]
        }
      ]
    },
    {
      "cell_type": "code",
      "source": [
        "params=dict(penalty=penalty,C=c_values,solver=solver,class_weight=class_weight)\n",
        "\n",
        "print(params)"
      ],
      "metadata": {
        "colab": {
          "base_uri": "https://localhost:8080/"
        },
        "id": "hnweGDnmE2P6",
        "outputId": "af63b95e-8272-4e02-ff8b-c90fb8bfab52"
      },
      "execution_count": 74,
      "outputs": [
        {
          "output_type": "stream",
          "name": "stdout",
          "text": [
            "{'penalty': ['l2'], 'C': [100, 10, 1.0, 0.1, 0.01], 'solver': ['lbfgs', 'liblinear', 'newton-cg', 'newton-cholesky', 'sag', 'saga'], 'class_weight': [{0: 1, 1: 1}, {0: 1, 1: 10}, {0: 1, 1: 50}, {0: 1, 1: 100}, {0: 10, 1: 1}, {0: 10, 1: 10}, {0: 10, 1: 50}, {0: 10, 1: 100}, {0: 100, 1: 1}, {0: 100, 1: 10}, {0: 100, 1: 50}, {0: 100, 1: 100}, {0: 50, 1: 1}, {0: 50, 1: 10}, {0: 50, 1: 50}, {0: 50, 1: 100}]}\n"
          ]
        }
      ]
    },
    {
      "cell_type": "code",
      "source": [
        "#cross validation and hyper parameter tuning\n",
        "cv=StratifiedKFold()\n",
        "\n",
        "grid=GridSearchCV(estimator=model,param_grid=params,scoring=\"accuracy\",cv=cv)\n"
      ],
      "metadata": {
        "id": "d--yIr4EE2Mx"
      },
      "execution_count": 75,
      "outputs": []
    },
    {
      "cell_type": "code",
      "source": [
        "grid.fit(X_train,y_train)"
      ],
      "metadata": {
        "colab": {
          "base_uri": "https://localhost:8080/",
          "height": 316
        },
        "id": "PaEvaeoMOTK-",
        "outputId": "222a3da3-b4ae-483f-bc38-7754433cf4d1"
      },
      "execution_count": 76,
      "outputs": [
        {
          "output_type": "execute_result",
          "data": {
            "text/plain": [
              "GridSearchCV(cv=StratifiedKFold(n_splits=5, random_state=None, shuffle=False),\n",
              "             estimator=LogisticRegression(),\n",
              "             param_grid={'C': [100, 10, 1.0, 0.1, 0.01],\n",
              "                         'class_weight': [{0: 1, 1: 1}, {0: 1, 1: 10},\n",
              "                                          {0: 1, 1: 50}, {0: 1, 1: 100},\n",
              "                                          {0: 10, 1: 1}, {0: 10, 1: 10},\n",
              "                                          {0: 10, 1: 50}, {0: 10, 1: 100},\n",
              "                                          {0: 100, 1: 1}, {0: 100, 1: 10},\n",
              "                                          {0: 100, 1: 50}, {0: 100, 1: 100},\n",
              "                                          {0: 50, 1: 1}, {0: 50, 1: 10},\n",
              "                                          {0: 50, 1: 50}, {0: 50, 1: 100}],\n",
              "                         'penalty': ['l2'],\n",
              "                         'solver': ['lbfgs', 'liblinear', 'newton-cg',\n",
              "                                    'newton-cholesky', 'sag', 'saga']},\n",
              "             scoring='accuracy')"
            ],
            "text/html": [
              "<style>#sk-container-id-7 {color: black;}#sk-container-id-7 pre{padding: 0;}#sk-container-id-7 div.sk-toggleable {background-color: white;}#sk-container-id-7 label.sk-toggleable__label {cursor: pointer;display: block;width: 100%;margin-bottom: 0;padding: 0.3em;box-sizing: border-box;text-align: center;}#sk-container-id-7 label.sk-toggleable__label-arrow:before {content: \"▸\";float: left;margin-right: 0.25em;color: #696969;}#sk-container-id-7 label.sk-toggleable__label-arrow:hover:before {color: black;}#sk-container-id-7 div.sk-estimator:hover label.sk-toggleable__label-arrow:before {color: black;}#sk-container-id-7 div.sk-toggleable__content {max-height: 0;max-width: 0;overflow: hidden;text-align: left;background-color: #f0f8ff;}#sk-container-id-7 div.sk-toggleable__content pre {margin: 0.2em;color: black;border-radius: 0.25em;background-color: #f0f8ff;}#sk-container-id-7 input.sk-toggleable__control:checked~div.sk-toggleable__content {max-height: 200px;max-width: 100%;overflow: auto;}#sk-container-id-7 input.sk-toggleable__control:checked~label.sk-toggleable__label-arrow:before {content: \"▾\";}#sk-container-id-7 div.sk-estimator input.sk-toggleable__control:checked~label.sk-toggleable__label {background-color: #d4ebff;}#sk-container-id-7 div.sk-label input.sk-toggleable__control:checked~label.sk-toggleable__label {background-color: #d4ebff;}#sk-container-id-7 input.sk-hidden--visually {border: 0;clip: rect(1px 1px 1px 1px);clip: rect(1px, 1px, 1px, 1px);height: 1px;margin: -1px;overflow: hidden;padding: 0;position: absolute;width: 1px;}#sk-container-id-7 div.sk-estimator {font-family: monospace;background-color: #f0f8ff;border: 1px dotted black;border-radius: 0.25em;box-sizing: border-box;margin-bottom: 0.5em;}#sk-container-id-7 div.sk-estimator:hover {background-color: #d4ebff;}#sk-container-id-7 div.sk-parallel-item::after {content: \"\";width: 100%;border-bottom: 1px solid gray;flex-grow: 1;}#sk-container-id-7 div.sk-label:hover label.sk-toggleable__label {background-color: #d4ebff;}#sk-container-id-7 div.sk-serial::before {content: \"\";position: absolute;border-left: 1px solid gray;box-sizing: border-box;top: 0;bottom: 0;left: 50%;z-index: 0;}#sk-container-id-7 div.sk-serial {display: flex;flex-direction: column;align-items: center;background-color: white;padding-right: 0.2em;padding-left: 0.2em;position: relative;}#sk-container-id-7 div.sk-item {position: relative;z-index: 1;}#sk-container-id-7 div.sk-parallel {display: flex;align-items: stretch;justify-content: center;background-color: white;position: relative;}#sk-container-id-7 div.sk-item::before, #sk-container-id-7 div.sk-parallel-item::before {content: \"\";position: absolute;border-left: 1px solid gray;box-sizing: border-box;top: 0;bottom: 0;left: 50%;z-index: -1;}#sk-container-id-7 div.sk-parallel-item {display: flex;flex-direction: column;z-index: 1;position: relative;background-color: white;}#sk-container-id-7 div.sk-parallel-item:first-child::after {align-self: flex-end;width: 50%;}#sk-container-id-7 div.sk-parallel-item:last-child::after {align-self: flex-start;width: 50%;}#sk-container-id-7 div.sk-parallel-item:only-child::after {width: 0;}#sk-container-id-7 div.sk-dashed-wrapped {border: 1px dashed gray;margin: 0 0.4em 0.5em 0.4em;box-sizing: border-box;padding-bottom: 0.4em;background-color: white;}#sk-container-id-7 div.sk-label label {font-family: monospace;font-weight: bold;display: inline-block;line-height: 1.2em;}#sk-container-id-7 div.sk-label-container {text-align: center;}#sk-container-id-7 div.sk-container {/* jupyter's `normalize.less` sets `[hidden] { display: none; }` but bootstrap.min.css set `[hidden] { display: none !important; }` so we also need the `!important` here to be able to override the default hidden behavior on the sphinx rendered scikit-learn.org. See: https://github.com/scikit-learn/scikit-learn/issues/21755 */display: inline-block !important;position: relative;}#sk-container-id-7 div.sk-text-repr-fallback {display: none;}</style><div id=\"sk-container-id-7\" class=\"sk-top-container\"><div class=\"sk-text-repr-fallback\"><pre>GridSearchCV(cv=StratifiedKFold(n_splits=5, random_state=None, shuffle=False),\n",
              "             estimator=LogisticRegression(),\n",
              "             param_grid={&#x27;C&#x27;: [100, 10, 1.0, 0.1, 0.01],\n",
              "                         &#x27;class_weight&#x27;: [{0: 1, 1: 1}, {0: 1, 1: 10},\n",
              "                                          {0: 1, 1: 50}, {0: 1, 1: 100},\n",
              "                                          {0: 10, 1: 1}, {0: 10, 1: 10},\n",
              "                                          {0: 10, 1: 50}, {0: 10, 1: 100},\n",
              "                                          {0: 100, 1: 1}, {0: 100, 1: 10},\n",
              "                                          {0: 100, 1: 50}, {0: 100, 1: 100},\n",
              "                                          {0: 50, 1: 1}, {0: 50, 1: 10},\n",
              "                                          {0: 50, 1: 50}, {0: 50, 1: 100}],\n",
              "                         &#x27;penalty&#x27;: [&#x27;l2&#x27;],\n",
              "                         &#x27;solver&#x27;: [&#x27;lbfgs&#x27;, &#x27;liblinear&#x27;, &#x27;newton-cg&#x27;,\n",
              "                                    &#x27;newton-cholesky&#x27;, &#x27;sag&#x27;, &#x27;saga&#x27;]},\n",
              "             scoring=&#x27;accuracy&#x27;)</pre><b>In a Jupyter environment, please rerun this cell to show the HTML representation or trust the notebook. <br />On GitHub, the HTML representation is unable to render, please try loading this page with nbviewer.org.</b></div><div class=\"sk-container\" hidden><div class=\"sk-item sk-dashed-wrapped\"><div class=\"sk-label-container\"><div class=\"sk-label sk-toggleable\"><input class=\"sk-toggleable__control sk-hidden--visually\" id=\"sk-estimator-id-15\" type=\"checkbox\" ><label for=\"sk-estimator-id-15\" class=\"sk-toggleable__label sk-toggleable__label-arrow\">GridSearchCV</label><div class=\"sk-toggleable__content\"><pre>GridSearchCV(cv=StratifiedKFold(n_splits=5, random_state=None, shuffle=False),\n",
              "             estimator=LogisticRegression(),\n",
              "             param_grid={&#x27;C&#x27;: [100, 10, 1.0, 0.1, 0.01],\n",
              "                         &#x27;class_weight&#x27;: [{0: 1, 1: 1}, {0: 1, 1: 10},\n",
              "                                          {0: 1, 1: 50}, {0: 1, 1: 100},\n",
              "                                          {0: 10, 1: 1}, {0: 10, 1: 10},\n",
              "                                          {0: 10, 1: 50}, {0: 10, 1: 100},\n",
              "                                          {0: 100, 1: 1}, {0: 100, 1: 10},\n",
              "                                          {0: 100, 1: 50}, {0: 100, 1: 100},\n",
              "                                          {0: 50, 1: 1}, {0: 50, 1: 10},\n",
              "                                          {0: 50, 1: 50}, {0: 50, 1: 100}],\n",
              "                         &#x27;penalty&#x27;: [&#x27;l2&#x27;],\n",
              "                         &#x27;solver&#x27;: [&#x27;lbfgs&#x27;, &#x27;liblinear&#x27;, &#x27;newton-cg&#x27;,\n",
              "                                    &#x27;newton-cholesky&#x27;, &#x27;sag&#x27;, &#x27;saga&#x27;]},\n",
              "             scoring=&#x27;accuracy&#x27;)</pre></div></div></div><div class=\"sk-parallel\"><div class=\"sk-parallel-item\"><div class=\"sk-item\"><div class=\"sk-label-container\"><div class=\"sk-label sk-toggleable\"><input class=\"sk-toggleable__control sk-hidden--visually\" id=\"sk-estimator-id-16\" type=\"checkbox\" ><label for=\"sk-estimator-id-16\" class=\"sk-toggleable__label sk-toggleable__label-arrow\">estimator: LogisticRegression</label><div class=\"sk-toggleable__content\"><pre>LogisticRegression()</pre></div></div></div><div class=\"sk-serial\"><div class=\"sk-item\"><div class=\"sk-estimator sk-toggleable\"><input class=\"sk-toggleable__control sk-hidden--visually\" id=\"sk-estimator-id-17\" type=\"checkbox\" ><label for=\"sk-estimator-id-17\" class=\"sk-toggleable__label sk-toggleable__label-arrow\">LogisticRegression</label><div class=\"sk-toggleable__content\"><pre>LogisticRegression()</pre></div></div></div></div></div></div></div></div></div></div>"
            ]
          },
          "metadata": {},
          "execution_count": 76
        }
      ]
    },
    {
      "cell_type": "code",
      "source": [
        "grid.best_params_"
      ],
      "metadata": {
        "colab": {
          "base_uri": "https://localhost:8080/"
        },
        "id": "jCxzGSz4dKFc",
        "outputId": "80e61319-5c46-4421-c6c3-9b79593b2a3b"
      },
      "execution_count": 77,
      "outputs": [
        {
          "output_type": "execute_result",
          "data": {
            "text/plain": [
              "{'C': 0.01, 'class_weight': {0: 10, 1: 50}, 'penalty': 'l2', 'solver': 'lbfgs'}"
            ]
          },
          "metadata": {},
          "execution_count": 77
        }
      ]
    },
    {
      "cell_type": "code",
      "source": [
        "grid.best_score_"
      ],
      "metadata": {
        "colab": {
          "base_uri": "https://localhost:8080/"
        },
        "id": "D2nvnwFqdKCt",
        "outputId": "2f71a19e-84ef-4e00-e646-837de1d52771"
      },
      "execution_count": 78,
      "outputs": [
        {
          "output_type": "execute_result",
          "data": {
            "text/plain": [
              "0.9887142857142857"
            ]
          },
          "metadata": {},
          "execution_count": 78
        }
      ]
    },
    {
      "cell_type": "code",
      "source": [
        "y_pred=grid.predict(X_test)\n",
        "y_pred"
      ],
      "metadata": {
        "colab": {
          "base_uri": "https://localhost:8080/"
        },
        "id": "NOs2xWSEdKAe",
        "outputId": "e77a21b2-e8fd-4a76-c7d4-05a180fdc888"
      },
      "execution_count": 79,
      "outputs": [
        {
          "output_type": "execute_result",
          "data": {
            "text/plain": [
              "array([0, 0, 0, ..., 0, 0, 0])"
            ]
          },
          "metadata": {},
          "execution_count": 79
        }
      ]
    },
    {
      "cell_type": "code",
      "source": [
        "score=accuracy_score(y_test,y_pred)\n",
        "print(score)\n",
        "\n",
        "cm=confusion_matrix(y_test,y_pred)\n",
        "print(cm)\n",
        "\n",
        "report=classification_report(y_test,y_pred)\n",
        "print(report)\n",
        "\n",
        "\" change random state value and will get different score each time\""
      ],
      "metadata": {
        "colab": {
          "base_uri": "https://localhost:8080/",
          "height": 253
        },
        "id": "usFV7YTROTIb",
        "outputId": "ed3e9ce5-d476-465c-89ad-9900838e4511"
      },
      "execution_count": 80,
      "outputs": [
        {
          "output_type": "stream",
          "name": "stdout",
          "text": [
            "0.9896666666666667\n",
            "[[2947    2]\n",
            " [  29   22]]\n",
            "              precision    recall  f1-score   support\n",
            "\n",
            "           0       0.99      1.00      0.99      2949\n",
            "           1       0.92      0.43      0.59        51\n",
            "\n",
            "    accuracy                           0.99      3000\n",
            "   macro avg       0.95      0.72      0.79      3000\n",
            "weighted avg       0.99      0.99      0.99      3000\n",
            "\n"
          ]
        },
        {
          "output_type": "execute_result",
          "data": {
            "text/plain": [
              "' change random state value and will get different score each time'"
            ],
            "application/vnd.google.colaboratory.intrinsic+json": {
              "type": "string"
            }
          },
          "metadata": {},
          "execution_count": 80
        }
      ]
    },
    {
      "cell_type": "markdown",
      "source": [
        "**Logistic Regression with ROC curve And ROC AUC score**"
      ],
      "metadata": {
        "id": "lQPdpMz-ff38"
      }
    },
    {
      "cell_type": "code",
      "source": [
        "#generate data\n",
        "\n",
        "X,y=make_classification(n_samples=1000,n_classes=2,random_state=10)"
      ],
      "metadata": {
        "id": "GGK7-J5SefxN"
      },
      "execution_count": 84,
      "outputs": []
    },
    {
      "cell_type": "code",
      "source": [
        "#train test split\n",
        "\n",
        "X_train,X_test,y_train,y_test=train_test_split(X,y,test_size=0.25,random_state=10)"
      ],
      "metadata": {
        "id": "HXjViproefus"
      },
      "execution_count": 87,
      "outputs": []
    },
    {
      "cell_type": "code",
      "source": [
        "#generate a no skill prediction(majority class)\n",
        "\n",
        "#we have created dummy model with default 0 as output\n",
        "\n",
        "dummy_model_prob=[0 for _ in range(len(y_test))]\n",
        "dummy_model_prob\n",
        "\n"
      ],
      "metadata": {
        "colab": {
          "base_uri": "https://localhost:8080/"
        },
        "id": "xJLU0cSmg98B",
        "outputId": "8538b982-10da-43b3-e9fc-e09091433b31"
      },
      "execution_count": 123,
      "outputs": [
        {
          "output_type": "execute_result",
          "data": {
            "text/plain": [
              "[0,\n",
              " 0,\n",
              " 0,\n",
              " 0,\n",
              " 0,\n",
              " 0,\n",
              " 0,\n",
              " 0,\n",
              " 0,\n",
              " 0,\n",
              " 0,\n",
              " 0,\n",
              " 0,\n",
              " 0,\n",
              " 0,\n",
              " 0,\n",
              " 0,\n",
              " 0,\n",
              " 0,\n",
              " 0,\n",
              " 0,\n",
              " 0,\n",
              " 0,\n",
              " 0,\n",
              " 0,\n",
              " 0,\n",
              " 0,\n",
              " 0,\n",
              " 0,\n",
              " 0,\n",
              " 0,\n",
              " 0,\n",
              " 0,\n",
              " 0,\n",
              " 0,\n",
              " 0,\n",
              " 0,\n",
              " 0,\n",
              " 0,\n",
              " 0,\n",
              " 0,\n",
              " 0,\n",
              " 0,\n",
              " 0,\n",
              " 0,\n",
              " 0,\n",
              " 0,\n",
              " 0,\n",
              " 0,\n",
              " 0,\n",
              " 0,\n",
              " 0,\n",
              " 0,\n",
              " 0,\n",
              " 0,\n",
              " 0,\n",
              " 0,\n",
              " 0,\n",
              " 0,\n",
              " 0,\n",
              " 0,\n",
              " 0,\n",
              " 0,\n",
              " 0,\n",
              " 0,\n",
              " 0,\n",
              " 0,\n",
              " 0,\n",
              " 0,\n",
              " 0,\n",
              " 0,\n",
              " 0,\n",
              " 0,\n",
              " 0,\n",
              " 0,\n",
              " 0,\n",
              " 0,\n",
              " 0,\n",
              " 0,\n",
              " 0,\n",
              " 0,\n",
              " 0,\n",
              " 0,\n",
              " 0,\n",
              " 0,\n",
              " 0,\n",
              " 0,\n",
              " 0,\n",
              " 0,\n",
              " 0,\n",
              " 0,\n",
              " 0,\n",
              " 0,\n",
              " 0,\n",
              " 0,\n",
              " 0,\n",
              " 0,\n",
              " 0,\n",
              " 0,\n",
              " 0,\n",
              " 0,\n",
              " 0,\n",
              " 0,\n",
              " 0,\n",
              " 0,\n",
              " 0,\n",
              " 0,\n",
              " 0,\n",
              " 0,\n",
              " 0,\n",
              " 0,\n",
              " 0,\n",
              " 0,\n",
              " 0,\n",
              " 0,\n",
              " 0,\n",
              " 0,\n",
              " 0,\n",
              " 0,\n",
              " 0,\n",
              " 0,\n",
              " 0,\n",
              " 0,\n",
              " 0,\n",
              " 0,\n",
              " 0,\n",
              " 0,\n",
              " 0,\n",
              " 0,\n",
              " 0,\n",
              " 0,\n",
              " 0,\n",
              " 0,\n",
              " 0,\n",
              " 0,\n",
              " 0,\n",
              " 0,\n",
              " 0,\n",
              " 0,\n",
              " 0,\n",
              " 0,\n",
              " 0,\n",
              " 0,\n",
              " 0,\n",
              " 0,\n",
              " 0,\n",
              " 0,\n",
              " 0,\n",
              " 0,\n",
              " 0,\n",
              " 0,\n",
              " 0,\n",
              " 0,\n",
              " 0,\n",
              " 0,\n",
              " 0,\n",
              " 0,\n",
              " 0,\n",
              " 0,\n",
              " 0,\n",
              " 0,\n",
              " 0,\n",
              " 0,\n",
              " 0,\n",
              " 0,\n",
              " 0,\n",
              " 0,\n",
              " 0,\n",
              " 0,\n",
              " 0,\n",
              " 0,\n",
              " 0,\n",
              " 0,\n",
              " 0,\n",
              " 0,\n",
              " 0,\n",
              " 0,\n",
              " 0,\n",
              " 0,\n",
              " 0,\n",
              " 0,\n",
              " 0,\n",
              " 0,\n",
              " 0,\n",
              " 0,\n",
              " 0,\n",
              " 0,\n",
              " 0,\n",
              " 0,\n",
              " 0,\n",
              " 0,\n",
              " 0,\n",
              " 0,\n",
              " 0,\n",
              " 0,\n",
              " 0,\n",
              " 0,\n",
              " 0,\n",
              " 0,\n",
              " 0,\n",
              " 0,\n",
              " 0,\n",
              " 0,\n",
              " 0,\n",
              " 0,\n",
              " 0,\n",
              " 0,\n",
              " 0,\n",
              " 0,\n",
              " 0,\n",
              " 0,\n",
              " 0,\n",
              " 0,\n",
              " 0,\n",
              " 0,\n",
              " 0,\n",
              " 0,\n",
              " 0,\n",
              " 0,\n",
              " 0,\n",
              " 0,\n",
              " 0,\n",
              " 0,\n",
              " 0,\n",
              " 0,\n",
              " 0,\n",
              " 0,\n",
              " 0,\n",
              " 0,\n",
              " 0,\n",
              " 0,\n",
              " 0,\n",
              " 0,\n",
              " 0,\n",
              " 0,\n",
              " 0,\n",
              " 0,\n",
              " 0,\n",
              " 0,\n",
              " 0,\n",
              " 0,\n",
              " 0,\n",
              " 0,\n",
              " 0,\n",
              " 0,\n",
              " 0,\n",
              " 0,\n",
              " 0,\n",
              " 0,\n",
              " 0]"
            ]
          },
          "metadata": {},
          "execution_count": 123
        }
      ]
    },
    {
      "cell_type": "code",
      "source": [
        "model=LogisticRegression()\n",
        "model.fit(X_train,y_train)"
      ],
      "metadata": {
        "colab": {
          "base_uri": "https://localhost:8080/",
          "height": 74
        },
        "id": "qhSHvD52hWwU",
        "outputId": "21683f2f-96d4-48cd-8dfc-bc3b213d7ae1"
      },
      "execution_count": 92,
      "outputs": [
        {
          "output_type": "execute_result",
          "data": {
            "text/plain": [
              "LogisticRegression()"
            ],
            "text/html": [
              "<style>#sk-container-id-8 {color: black;}#sk-container-id-8 pre{padding: 0;}#sk-container-id-8 div.sk-toggleable {background-color: white;}#sk-container-id-8 label.sk-toggleable__label {cursor: pointer;display: block;width: 100%;margin-bottom: 0;padding: 0.3em;box-sizing: border-box;text-align: center;}#sk-container-id-8 label.sk-toggleable__label-arrow:before {content: \"▸\";float: left;margin-right: 0.25em;color: #696969;}#sk-container-id-8 label.sk-toggleable__label-arrow:hover:before {color: black;}#sk-container-id-8 div.sk-estimator:hover label.sk-toggleable__label-arrow:before {color: black;}#sk-container-id-8 div.sk-toggleable__content {max-height: 0;max-width: 0;overflow: hidden;text-align: left;background-color: #f0f8ff;}#sk-container-id-8 div.sk-toggleable__content pre {margin: 0.2em;color: black;border-radius: 0.25em;background-color: #f0f8ff;}#sk-container-id-8 input.sk-toggleable__control:checked~div.sk-toggleable__content {max-height: 200px;max-width: 100%;overflow: auto;}#sk-container-id-8 input.sk-toggleable__control:checked~label.sk-toggleable__label-arrow:before {content: \"▾\";}#sk-container-id-8 div.sk-estimator input.sk-toggleable__control:checked~label.sk-toggleable__label {background-color: #d4ebff;}#sk-container-id-8 div.sk-label input.sk-toggleable__control:checked~label.sk-toggleable__label {background-color: #d4ebff;}#sk-container-id-8 input.sk-hidden--visually {border: 0;clip: rect(1px 1px 1px 1px);clip: rect(1px, 1px, 1px, 1px);height: 1px;margin: -1px;overflow: hidden;padding: 0;position: absolute;width: 1px;}#sk-container-id-8 div.sk-estimator {font-family: monospace;background-color: #f0f8ff;border: 1px dotted black;border-radius: 0.25em;box-sizing: border-box;margin-bottom: 0.5em;}#sk-container-id-8 div.sk-estimator:hover {background-color: #d4ebff;}#sk-container-id-8 div.sk-parallel-item::after {content: \"\";width: 100%;border-bottom: 1px solid gray;flex-grow: 1;}#sk-container-id-8 div.sk-label:hover label.sk-toggleable__label {background-color: #d4ebff;}#sk-container-id-8 div.sk-serial::before {content: \"\";position: absolute;border-left: 1px solid gray;box-sizing: border-box;top: 0;bottom: 0;left: 50%;z-index: 0;}#sk-container-id-8 div.sk-serial {display: flex;flex-direction: column;align-items: center;background-color: white;padding-right: 0.2em;padding-left: 0.2em;position: relative;}#sk-container-id-8 div.sk-item {position: relative;z-index: 1;}#sk-container-id-8 div.sk-parallel {display: flex;align-items: stretch;justify-content: center;background-color: white;position: relative;}#sk-container-id-8 div.sk-item::before, #sk-container-id-8 div.sk-parallel-item::before {content: \"\";position: absolute;border-left: 1px solid gray;box-sizing: border-box;top: 0;bottom: 0;left: 50%;z-index: -1;}#sk-container-id-8 div.sk-parallel-item {display: flex;flex-direction: column;z-index: 1;position: relative;background-color: white;}#sk-container-id-8 div.sk-parallel-item:first-child::after {align-self: flex-end;width: 50%;}#sk-container-id-8 div.sk-parallel-item:last-child::after {align-self: flex-start;width: 50%;}#sk-container-id-8 div.sk-parallel-item:only-child::after {width: 0;}#sk-container-id-8 div.sk-dashed-wrapped {border: 1px dashed gray;margin: 0 0.4em 0.5em 0.4em;box-sizing: border-box;padding-bottom: 0.4em;background-color: white;}#sk-container-id-8 div.sk-label label {font-family: monospace;font-weight: bold;display: inline-block;line-height: 1.2em;}#sk-container-id-8 div.sk-label-container {text-align: center;}#sk-container-id-8 div.sk-container {/* jupyter's `normalize.less` sets `[hidden] { display: none; }` but bootstrap.min.css set `[hidden] { display: none !important; }` so we also need the `!important` here to be able to override the default hidden behavior on the sphinx rendered scikit-learn.org. See: https://github.com/scikit-learn/scikit-learn/issues/21755 */display: inline-block !important;position: relative;}#sk-container-id-8 div.sk-text-repr-fallback {display: none;}</style><div id=\"sk-container-id-8\" class=\"sk-top-container\"><div class=\"sk-text-repr-fallback\"><pre>LogisticRegression()</pre><b>In a Jupyter environment, please rerun this cell to show the HTML representation or trust the notebook. <br />On GitHub, the HTML representation is unable to render, please try loading this page with nbviewer.org.</b></div><div class=\"sk-container\" hidden><div class=\"sk-item\"><div class=\"sk-estimator sk-toggleable\"><input class=\"sk-toggleable__control sk-hidden--visually\" id=\"sk-estimator-id-18\" type=\"checkbox\" checked><label for=\"sk-estimator-id-18\" class=\"sk-toggleable__label sk-toggleable__label-arrow\">LogisticRegression</label><div class=\"sk-toggleable__content\"><pre>LogisticRegression()</pre></div></div></div></div></div>"
            ]
          },
          "metadata": {},
          "execution_count": 92
        }
      ]
    },
    {
      "cell_type": "code",
      "source": [
        "model_prob=model.predict_proba(X_test)\n",
        "model_prob\n",
        "#\"prediction based on probability\"\n",
        "\n"
      ],
      "metadata": {
        "colab": {
          "base_uri": "https://localhost:8080/"
        },
        "id": "J2h8KU0OhWtk",
        "outputId": "341a8ac3-19d4-48ca-dabc-ea489d39b205"
      },
      "execution_count": 103,
      "outputs": [
        {
          "output_type": "execute_result",
          "data": {
            "text/plain": [
              "array([[1.13065538e-01, 8.86934462e-01],\n",
              "       [2.06735980e-02, 9.79326402e-01],\n",
              "       [7.38139276e-01, 2.61860724e-01],\n",
              "       [4.41904333e-02, 9.55809567e-01],\n",
              "       [7.17429112e-01, 2.82570888e-01],\n",
              "       [9.82740450e-01, 1.72595502e-02],\n",
              "       [8.86348468e-02, 9.11365153e-01],\n",
              "       [7.20089281e-01, 2.79910719e-01],\n",
              "       [2.91557124e-01, 7.08442876e-01],\n",
              "       [3.57893887e-01, 6.42106113e-01],\n",
              "       [9.81418680e-01, 1.85813196e-02],\n",
              "       [2.57431016e-01, 7.42568984e-01],\n",
              "       [3.81466697e-01, 6.18533303e-01],\n",
              "       [8.39082460e-01, 1.60917540e-01],\n",
              "       [6.80460098e-01, 3.19539902e-01],\n",
              "       [9.96205855e-01, 3.79414493e-03],\n",
              "       [5.77415527e-01, 4.22584473e-01],\n",
              "       [3.58359827e-01, 6.41640173e-01],\n",
              "       [8.36393959e-01, 1.63606041e-01],\n",
              "       [2.04706359e-03, 9.97952936e-01],\n",
              "       [2.95088114e-01, 7.04911886e-01],\n",
              "       [4.40029157e-01, 5.59970843e-01],\n",
              "       [4.83709070e-01, 5.16290930e-01],\n",
              "       [1.96812336e-01, 8.03187664e-01],\n",
              "       [4.37238005e-01, 5.62761995e-01],\n",
              "       [8.31550420e-01, 1.68449580e-01],\n",
              "       [9.21740619e-01, 7.82593809e-02],\n",
              "       [8.09194267e-01, 1.90805733e-01],\n",
              "       [9.75593387e-01, 2.44066133e-02],\n",
              "       [7.75000000e-01, 2.25000000e-01],\n",
              "       [8.48249326e-01, 1.51750674e-01],\n",
              "       [7.36619858e-02, 9.26338014e-01],\n",
              "       [9.97446416e-01, 2.55358416e-03],\n",
              "       [8.42697798e-01, 1.57302202e-01],\n",
              "       [2.69176907e-01, 7.30823093e-01],\n",
              "       [1.27980136e-01, 8.72019864e-01],\n",
              "       [7.03435576e-01, 2.96564424e-01],\n",
              "       [4.76194716e-01, 5.23805284e-01],\n",
              "       [1.07283967e-01, 8.92716033e-01],\n",
              "       [1.00651908e-01, 8.99348092e-01],\n",
              "       [2.69235156e-01, 7.30764844e-01],\n",
              "       [7.65585890e-01, 2.34414110e-01],\n",
              "       [2.70050544e-02, 9.72994946e-01],\n",
              "       [8.70100672e-01, 1.29899328e-01],\n",
              "       [9.94559924e-01, 5.44007633e-03],\n",
              "       [9.53927509e-01, 4.60724913e-02],\n",
              "       [7.12236623e-01, 2.87763377e-01],\n",
              "       [2.65514394e-03, 9.97344856e-01],\n",
              "       [4.26659363e-03, 9.95733406e-01],\n",
              "       [9.39836653e-01, 6.01633467e-02],\n",
              "       [8.50269666e-01, 1.49730334e-01],\n",
              "       [7.49593579e-02, 9.25040642e-01],\n",
              "       [1.79513377e-01, 8.20486623e-01],\n",
              "       [9.95943588e-01, 4.05641165e-03],\n",
              "       [8.73650488e-02, 9.12634951e-01],\n",
              "       [1.43774603e-01, 8.56225397e-01],\n",
              "       [2.86977984e-01, 7.13022016e-01],\n",
              "       [2.46633875e-01, 7.53366125e-01],\n",
              "       [2.84764617e-01, 7.15235383e-01],\n",
              "       [9.51323913e-01, 4.86760866e-02],\n",
              "       [2.20972904e-01, 7.79027096e-01],\n",
              "       [8.78142017e-01, 1.21857983e-01],\n",
              "       [2.06436739e-02, 9.79356326e-01],\n",
              "       [1.75140901e-02, 9.82485910e-01],\n",
              "       [2.08331429e-01, 7.91668571e-01],\n",
              "       [7.06529982e-01, 2.93470018e-01],\n",
              "       [9.44432468e-01, 5.55675316e-02],\n",
              "       [8.93730806e-01, 1.06269194e-01],\n",
              "       [5.84265742e-02, 9.41573426e-01],\n",
              "       [9.38637622e-01, 6.13623785e-02],\n",
              "       [9.88272148e-01, 1.17278517e-02],\n",
              "       [5.13877916e-02, 9.48612208e-01],\n",
              "       [9.93169161e-01, 6.83083865e-03],\n",
              "       [9.96306142e-01, 3.69385805e-03],\n",
              "       [8.04785634e-01, 1.95214366e-01],\n",
              "       [5.27804725e-02, 9.47219527e-01],\n",
              "       [6.40442824e-01, 3.59557176e-01],\n",
              "       [3.31393604e-02, 9.66860640e-01],\n",
              "       [6.34778653e-01, 3.65221347e-01],\n",
              "       [9.79581525e-01, 2.04184754e-02],\n",
              "       [1.96812136e-01, 8.03187864e-01],\n",
              "       [9.49218801e-02, 9.05078120e-01],\n",
              "       [9.96734909e-01, 3.26509136e-03],\n",
              "       [1.73215044e-02, 9.82678496e-01],\n",
              "       [7.34872529e-01, 2.65127471e-01],\n",
              "       [4.48591379e-01, 5.51408621e-01],\n",
              "       [8.86241476e-02, 9.11375852e-01],\n",
              "       [5.29021018e-01, 4.70978982e-01],\n",
              "       [9.35234162e-02, 9.06476584e-01],\n",
              "       [1.26147375e-01, 8.73852625e-01],\n",
              "       [9.21641431e-01, 7.83585692e-02],\n",
              "       [4.77012902e-02, 9.52298710e-01],\n",
              "       [6.91167227e-01, 3.08832773e-01],\n",
              "       [9.88031370e-01, 1.19686300e-02],\n",
              "       [7.84595985e-01, 2.15404015e-01],\n",
              "       [7.15559781e-02, 9.28444022e-01],\n",
              "       [4.33838403e-01, 5.66161597e-01],\n",
              "       [9.83868308e-01, 1.61316921e-02],\n",
              "       [9.86931348e-01, 1.30686518e-02],\n",
              "       [9.92213945e-01, 7.78605526e-03],\n",
              "       [2.03990477e-02, 9.79600952e-01],\n",
              "       [1.78358013e-01, 8.21641987e-01],\n",
              "       [7.90422891e-01, 2.09577109e-01],\n",
              "       [9.79220494e-01, 2.07795055e-02],\n",
              "       [8.22650356e-01, 1.77349644e-01],\n",
              "       [9.00661906e-01, 9.93380937e-02],\n",
              "       [3.76388485e-02, 9.62361152e-01],\n",
              "       [3.46298870e-01, 6.53701130e-01],\n",
              "       [2.20529431e-02, 9.77947057e-01],\n",
              "       [1.08949104e-01, 8.91050896e-01],\n",
              "       [4.80728353e-02, 9.51927165e-01],\n",
              "       [9.33898936e-01, 6.61010645e-02],\n",
              "       [3.64683741e-01, 6.35316259e-01],\n",
              "       [9.74719437e-01, 2.52805634e-02],\n",
              "       [9.62426362e-01, 3.75736377e-02],\n",
              "       [7.39867429e-03, 9.92601326e-01],\n",
              "       [8.57751633e-01, 1.42248367e-01],\n",
              "       [3.25807604e-03, 9.96741924e-01],\n",
              "       [2.11143210e-01, 7.88856790e-01],\n",
              "       [8.98201805e-01, 1.01798195e-01],\n",
              "       [9.98625391e-01, 1.37460937e-03],\n",
              "       [9.73251626e-01, 2.67483735e-02],\n",
              "       [2.42527976e-02, 9.75747202e-01],\n",
              "       [6.22721629e-01, 3.77278371e-01],\n",
              "       [4.20374901e-01, 5.79625099e-01],\n",
              "       [9.95862760e-01, 4.13724013e-03],\n",
              "       [9.35665635e-01, 6.43343652e-02],\n",
              "       [9.81146238e-01, 1.88537622e-02],\n",
              "       [2.59498783e-02, 9.74050122e-01],\n",
              "       [5.80259145e-02, 9.41974086e-01],\n",
              "       [3.73787497e-02, 9.62621250e-01],\n",
              "       [8.56535016e-01, 1.43464984e-01],\n",
              "       [1.75954989e-01, 8.24045011e-01],\n",
              "       [6.01426950e-04, 9.99398573e-01],\n",
              "       [4.34316751e-03, 9.95656832e-01],\n",
              "       [9.91731184e-01, 8.26881639e-03],\n",
              "       [3.86823740e-01, 6.13176260e-01],\n",
              "       [1.24720428e-01, 8.75279572e-01],\n",
              "       [9.40089444e-01, 5.99105562e-02],\n",
              "       [4.44586964e-01, 5.55413036e-01],\n",
              "       [8.07062837e-01, 1.92937163e-01],\n",
              "       [6.33301731e-01, 3.66698269e-01],\n",
              "       [9.22195945e-01, 7.78040548e-02],\n",
              "       [9.53574249e-01, 4.64257508e-02],\n",
              "       [2.21607575e-02, 9.77839242e-01],\n",
              "       [6.93862116e-01, 3.06137884e-01],\n",
              "       [7.47965007e-01, 2.52034993e-01],\n",
              "       [4.89346901e-02, 9.51065310e-01],\n",
              "       [8.46625367e-01, 1.53374633e-01],\n",
              "       [2.96737225e-01, 7.03262775e-01],\n",
              "       [7.26562405e-02, 9.27343759e-01],\n",
              "       [4.72514760e-02, 9.52748524e-01],\n",
              "       [9.86573525e-01, 1.34264750e-02],\n",
              "       [8.13311659e-01, 1.86688341e-01],\n",
              "       [2.92942005e-02, 9.70705799e-01],\n",
              "       [6.18921250e-01, 3.81078750e-01],\n",
              "       [9.84255908e-01, 1.57440917e-02],\n",
              "       [8.44127339e-02, 9.15587266e-01],\n",
              "       [9.89127015e-01, 1.08729854e-02],\n",
              "       [9.90005970e-01, 9.99402990e-03],\n",
              "       [9.23859739e-01, 7.61402606e-02],\n",
              "       [6.55756687e-02, 9.34424331e-01],\n",
              "       [9.59432503e-01, 4.05674969e-02],\n",
              "       [5.82618092e-01, 4.17381908e-01],\n",
              "       [8.47595480e-01, 1.52404520e-01],\n",
              "       [6.30579682e-01, 3.69420318e-01],\n",
              "       [1.42032237e-02, 9.85796776e-01],\n",
              "       [9.64487656e-01, 3.55123443e-02],\n",
              "       [1.04526574e-01, 8.95473426e-01],\n",
              "       [6.72801276e-01, 3.27198724e-01],\n",
              "       [3.96428335e-01, 6.03571665e-01],\n",
              "       [1.10392202e-01, 8.89607798e-01],\n",
              "       [2.01791766e-02, 9.79820823e-01],\n",
              "       [9.20249800e-01, 7.97502003e-02],\n",
              "       [1.00265418e-02, 9.89973458e-01],\n",
              "       [6.81553291e-01, 3.18446709e-01],\n",
              "       [3.46505137e-01, 6.53494863e-01],\n",
              "       [1.12389772e-01, 8.87610228e-01],\n",
              "       [9.29293472e-01, 7.07065278e-02],\n",
              "       [9.92654162e-01, 7.34583757e-03],\n",
              "       [9.85792233e-01, 1.42077673e-02],\n",
              "       [9.95772549e-03, 9.90042275e-01],\n",
              "       [3.42498275e-01, 6.57501725e-01],\n",
              "       [4.74581411e-01, 5.25418589e-01],\n",
              "       [1.19193095e-03, 9.98808069e-01],\n",
              "       [1.14570582e-01, 8.85429418e-01],\n",
              "       [9.46141374e-01, 5.38586263e-02],\n",
              "       [9.36313736e-01, 6.36862644e-02],\n",
              "       [3.63197155e-02, 9.63680285e-01],\n",
              "       [6.18772906e-01, 3.81227094e-01],\n",
              "       [1.29258579e-02, 9.87074142e-01],\n",
              "       [9.81892499e-01, 1.81075014e-02],\n",
              "       [9.86983724e-01, 1.30162755e-02],\n",
              "       [1.93461275e-03, 9.98065387e-01],\n",
              "       [2.26139453e-01, 7.73860547e-01],\n",
              "       [7.73881068e-02, 9.22611893e-01],\n",
              "       [5.30596644e-01, 4.69403356e-01],\n",
              "       [9.67140625e-01, 3.28593746e-02],\n",
              "       [8.99765209e-01, 1.00234791e-01],\n",
              "       [6.94681151e-01, 3.05318849e-01],\n",
              "       [2.36298040e-01, 7.63701960e-01],\n",
              "       [6.21491628e-01, 3.78508372e-01],\n",
              "       [7.42684876e-01, 2.57315124e-01],\n",
              "       [1.97831269e-02, 9.80216873e-01],\n",
              "       [9.47613837e-01, 5.23861631e-02],\n",
              "       [4.31303256e-02, 9.56869674e-01],\n",
              "       [5.90905885e-01, 4.09094115e-01],\n",
              "       [6.48968150e-02, 9.35103185e-01],\n",
              "       [5.10556309e-01, 4.89443691e-01],\n",
              "       [8.73641638e-01, 1.26358362e-01],\n",
              "       [2.30032249e-01, 7.69967751e-01],\n",
              "       [9.65436043e-01, 3.45639573e-02],\n",
              "       [9.90709264e-01, 9.29073559e-03],\n",
              "       [8.40226401e-01, 1.59773599e-01],\n",
              "       [9.98867751e-01, 1.13224920e-03],\n",
              "       [7.45701807e-01, 2.54298193e-01],\n",
              "       [6.24006881e-02, 9.37599312e-01],\n",
              "       [8.41564144e-01, 1.58435856e-01],\n",
              "       [5.88788600e-01, 4.11211400e-01],\n",
              "       [9.74064041e-01, 2.59359592e-02],\n",
              "       [2.35184500e-01, 7.64815500e-01],\n",
              "       [8.74053658e-02, 9.12594634e-01],\n",
              "       [5.72368840e-02, 9.42763116e-01],\n",
              "       [8.52978279e-01, 1.47021721e-01],\n",
              "       [5.17252777e-03, 9.94827472e-01],\n",
              "       [6.00585830e-03, 9.93994142e-01],\n",
              "       [7.87095220e-01, 2.12904780e-01],\n",
              "       [7.32293908e-02, 9.26770609e-01],\n",
              "       [2.71241886e-01, 7.28758114e-01],\n",
              "       [4.94563792e-01, 5.05436208e-01],\n",
              "       [7.30521087e-01, 2.69478913e-01],\n",
              "       [5.51354907e-03, 9.94486451e-01],\n",
              "       [5.54395700e-01, 4.45604300e-01],\n",
              "       [9.97661223e-01, 2.33877650e-03],\n",
              "       [6.21811942e-03, 9.93781881e-01],\n",
              "       [8.79852638e-01, 1.20147362e-01],\n",
              "       [1.82166146e-02, 9.81783385e-01],\n",
              "       [8.51111957e-01, 1.48888043e-01],\n",
              "       [5.54286979e-02, 9.44571302e-01],\n",
              "       [8.63763978e-02, 9.13623602e-01],\n",
              "       [7.81251161e-01, 2.18748839e-01],\n",
              "       [9.64347980e-01, 3.56520197e-02],\n",
              "       [9.42395500e-01, 5.76045001e-02],\n",
              "       [7.97614947e-01, 2.02385053e-01],\n",
              "       [1.88530310e-01, 8.11469690e-01],\n",
              "       [9.92774190e-01, 7.22580953e-03],\n",
              "       [9.28495501e-01, 7.15044992e-02],\n",
              "       [2.11405976e-02, 9.78859402e-01],\n",
              "       [4.28986904e-01, 5.71013096e-01],\n",
              "       [6.85489850e-01, 3.14510150e-01]])"
            ]
          },
          "metadata": {},
          "execution_count": 103
        }
      ]
    },
    {
      "cell_type": "code",
      "source": [
        "#focus on positive outcome\n",
        "\n",
        "model_prob=model_prob[:,1]\n",
        "model_prob"
      ],
      "metadata": {
        "colab": {
          "base_uri": "https://localhost:8080/"
        },
        "id": "BRygFzClhWqa",
        "outputId": "b37ecc5e-309f-4469-9724-15c39a094250"
      },
      "execution_count": 104,
      "outputs": [
        {
          "output_type": "execute_result",
          "data": {
            "text/plain": [
              "array([0.88693446, 0.9793264 , 0.26186072, 0.95580957, 0.28257089,\n",
              "       0.01725955, 0.91136515, 0.27991072, 0.70844288, 0.64210611,\n",
              "       0.01858132, 0.74256898, 0.6185333 , 0.16091754, 0.3195399 ,\n",
              "       0.00379414, 0.42258447, 0.64164017, 0.16360604, 0.99795294,\n",
              "       0.70491189, 0.55997084, 0.51629093, 0.80318766, 0.56276199,\n",
              "       0.16844958, 0.07825938, 0.19080573, 0.02440661, 0.225     ,\n",
              "       0.15175067, 0.92633801, 0.00255358, 0.1573022 , 0.73082309,\n",
              "       0.87201986, 0.29656442, 0.52380528, 0.89271603, 0.89934809,\n",
              "       0.73076484, 0.23441411, 0.97299495, 0.12989933, 0.00544008,\n",
              "       0.04607249, 0.28776338, 0.99734486, 0.99573341, 0.06016335,\n",
              "       0.14973033, 0.92504064, 0.82048662, 0.00405641, 0.91263495,\n",
              "       0.8562254 , 0.71302202, 0.75336612, 0.71523538, 0.04867609,\n",
              "       0.7790271 , 0.12185798, 0.97935633, 0.98248591, 0.79166857,\n",
              "       0.29347002, 0.05556753, 0.10626919, 0.94157343, 0.06136238,\n",
              "       0.01172785, 0.94861221, 0.00683084, 0.00369386, 0.19521437,\n",
              "       0.94721953, 0.35955718, 0.96686064, 0.36522135, 0.02041848,\n",
              "       0.80318786, 0.90507812, 0.00326509, 0.9826785 , 0.26512747,\n",
              "       0.55140862, 0.91137585, 0.47097898, 0.90647658, 0.87385263,\n",
              "       0.07835857, 0.95229871, 0.30883277, 0.01196863, 0.21540401,\n",
              "       0.92844402, 0.5661616 , 0.01613169, 0.01306865, 0.00778606,\n",
              "       0.97960095, 0.82164199, 0.20957711, 0.02077951, 0.17734964,\n",
              "       0.09933809, 0.96236115, 0.65370113, 0.97794706, 0.8910509 ,\n",
              "       0.95192716, 0.06610106, 0.63531626, 0.02528056, 0.03757364,\n",
              "       0.99260133, 0.14224837, 0.99674192, 0.78885679, 0.10179819,\n",
              "       0.00137461, 0.02674837, 0.9757472 , 0.37727837, 0.5796251 ,\n",
              "       0.00413724, 0.06433437, 0.01885376, 0.97405012, 0.94197409,\n",
              "       0.96262125, 0.14346498, 0.82404501, 0.99939857, 0.99565683,\n",
              "       0.00826882, 0.61317626, 0.87527957, 0.05991056, 0.55541304,\n",
              "       0.19293716, 0.36669827, 0.07780405, 0.04642575, 0.97783924,\n",
              "       0.30613788, 0.25203499, 0.95106531, 0.15337463, 0.70326278,\n",
              "       0.92734376, 0.95274852, 0.01342647, 0.18668834, 0.9707058 ,\n",
              "       0.38107875, 0.01574409, 0.91558727, 0.01087299, 0.00999403,\n",
              "       0.07614026, 0.93442433, 0.0405675 , 0.41738191, 0.15240452,\n",
              "       0.36942032, 0.98579678, 0.03551234, 0.89547343, 0.32719872,\n",
              "       0.60357166, 0.8896078 , 0.97982082, 0.0797502 , 0.98997346,\n",
              "       0.31844671, 0.65349486, 0.88761023, 0.07070653, 0.00734584,\n",
              "       0.01420777, 0.99004227, 0.65750173, 0.52541859, 0.99880807,\n",
              "       0.88542942, 0.05385863, 0.06368626, 0.96368028, 0.38122709,\n",
              "       0.98707414, 0.0181075 , 0.01301628, 0.99806539, 0.77386055,\n",
              "       0.92261189, 0.46940336, 0.03285937, 0.10023479, 0.30531885,\n",
              "       0.76370196, 0.37850837, 0.25731512, 0.98021687, 0.05238616,\n",
              "       0.95686967, 0.40909411, 0.93510318, 0.48944369, 0.12635836,\n",
              "       0.76996775, 0.03456396, 0.00929074, 0.1597736 , 0.00113225,\n",
              "       0.25429819, 0.93759931, 0.15843586, 0.4112114 , 0.02593596,\n",
              "       0.7648155 , 0.91259463, 0.94276312, 0.14702172, 0.99482747,\n",
              "       0.99399414, 0.21290478, 0.92677061, 0.72875811, 0.50543621,\n",
              "       0.26947891, 0.99448645, 0.4456043 , 0.00233878, 0.99378188,\n",
              "       0.12014736, 0.98178339, 0.14888804, 0.9445713 , 0.9136236 ,\n",
              "       0.21874884, 0.03565202, 0.0576045 , 0.20238505, 0.81146969,\n",
              "       0.00722581, 0.0715045 , 0.9788594 , 0.5710131 , 0.31451015])"
            ]
          },
          "metadata": {},
          "execution_count": 104
        }
      ]
    },
    {
      "cell_type": "code",
      "source": [
        "#calculate score\n",
        "dummy_model_auc=roc_auc_score(y_test,dummy_model_prob)\n",
        "print(dummy_model_auc)\n",
        "\n",
        "model_auc=roc_auc_score(y_test,model_prob)\n",
        "print(model_auc)\n"
      ],
      "metadata": {
        "colab": {
          "base_uri": "https://localhost:8080/"
        },
        "id": "vS4_BVsThWlr",
        "outputId": "e33c4995-d129-4bde-88c0-bafdbe6199c7"
      },
      "execution_count": 106,
      "outputs": [
        {
          "output_type": "stream",
          "name": "stdout",
          "text": [
            "0.5\n",
            "0.9332298136645962\n"
          ]
        }
      ]
    },
    {
      "cell_type": "code",
      "source": [
        "\"roc auc curve gives us False positive rate:- FP/FP+TN\""
      ],
      "metadata": {
        "colab": {
          "base_uri": "https://localhost:8080/",
          "height": 36
        },
        "id": "xMevN7JJhWiI",
        "outputId": "96370989-f49f-48dc-eddb-1f2edacb1c0e"
      },
      "execution_count": 118,
      "outputs": [
        {
          "output_type": "execute_result",
          "data": {
            "text/plain": [
              "'roc auc curve gives us False positive rate:- FP/FP+TN'"
            ],
            "application/vnd.google.colaboratory.intrinsic+json": {
              "type": "string"
            }
          },
          "metadata": {},
          "execution_count": 118
        }
      ]
    },
    {
      "cell_type": "code",
      "source": [
        "\"Sensitivity , recall, hit rate or true positive rate(TPR):- TP/TP+FN =1-FNR\""
      ],
      "metadata": {
        "colab": {
          "base_uri": "https://localhost:8080/",
          "height": 36
        },
        "id": "6rZBVb2ZhWdg",
        "outputId": "687b5ff2-e367-4269-eb6a-9a54b0e3d2a2"
      },
      "execution_count": 119,
      "outputs": [
        {
          "output_type": "execute_result",
          "data": {
            "text/plain": [
              "'Sensitivity , recall, hit rate or true positive rate(TPR):- TP/TP+FN =1-FNR'"
            ],
            "application/vnd.google.colaboratory.intrinsic+json": {
              "type": "string"
            }
          },
          "metadata": {},
          "execution_count": 119
        }
      ]
    },
    {
      "cell_type": "code",
      "source": [
        "#calculate roc curve\n",
        "#TPR on y-axis and FPR on x-axis gives us roc curve\n",
        "\n",
        "dummy_fpr,dummy_tpr,_=roc_curve(y_test,dummy_model_prob)\n",
        "\n",
        "model_fpr,model_tpr,_=roc_curve(y_test,model_prob)\n"
      ],
      "metadata": {
        "id": "pfcgGW3Wg87U"
      },
      "execution_count": 126,
      "outputs": []
    },
    {
      "cell_type": "code",
      "source": [
        "model_fpr,model_tpr"
      ],
      "metadata": {
        "colab": {
          "base_uri": "https://localhost:8080/"
        },
        "id": "nWdQ1KRfg84l",
        "outputId": "e7fa1051-4bc0-4700-e364-a4ad105bd3c9"
      },
      "execution_count": 128,
      "outputs": [
        {
          "output_type": "execute_result",
          "data": {
            "text/plain": [
              "(array([0.        , 0.        , 0.        , 0.00724638, 0.00724638,\n",
              "        0.01449275, 0.01449275, 0.02898551, 0.02898551, 0.05797101,\n",
              "        0.05797101, 0.0942029 , 0.0942029 , 0.11594203, 0.11594203,\n",
              "        0.13043478, 0.13043478, 0.15217391, 0.15217391, 0.19565217,\n",
              "        0.19565217, 0.21014493, 0.21014493, 0.23913043, 0.23913043,\n",
              "        0.24637681, 0.24637681, 0.25362319, 0.25362319, 0.2826087 ,\n",
              "        0.2826087 , 0.33333333, 0.33333333, 0.37681159, 0.37681159,\n",
              "        0.39130435, 0.39130435, 0.41304348, 0.41304348, 0.47826087,\n",
              "        0.47826087, 0.57246377, 0.57246377, 0.62318841, 0.62318841,\n",
              "        0.65217391, 0.65217391, 1.        ]),\n",
              " array([0.        , 0.00892857, 0.45535714, 0.45535714, 0.60714286,\n",
              "        0.60714286, 0.78571429, 0.78571429, 0.79464286, 0.79464286,\n",
              "        0.8125    , 0.8125    , 0.82142857, 0.82142857, 0.83035714,\n",
              "        0.83035714, 0.83928571, 0.83928571, 0.84821429, 0.84821429,\n",
              "        0.85714286, 0.85714286, 0.875     , 0.875     , 0.88392857,\n",
              "        0.88392857, 0.89285714, 0.89285714, 0.90178571, 0.90178571,\n",
              "        0.91071429, 0.91071429, 0.91964286, 0.91964286, 0.9375    ,\n",
              "        0.9375    , 0.94642857, 0.94642857, 0.95535714, 0.95535714,\n",
              "        0.96428571, 0.96428571, 0.98214286, 0.98214286, 0.99107143,\n",
              "        0.99107143, 1.        , 1.        ]))"
            ]
          },
          "metadata": {},
          "execution_count": 128
        }
      ]
    },
    {
      "cell_type": "code",
      "source": [
        "#plot the roc curve\n",
        "import matplotlib.pyplot as plt\n",
        "\n",
        "plt.plot(dummy_fpr,dummy_tpr,linestyle='--',label=\"Dummy Model\")\n",
        "\n",
        "plt.plot(model_fpr,model_tpr,marker='.',label=\"Logistic Model\")\n",
        "\n",
        "#axis label\n",
        "plt.xlabel(\"False Positive Rate\")\n",
        "plt.ylabel(\"True Positive Rate\")\n",
        "\n",
        "#show the legend\n",
        "plt.legend()\n",
        "\n",
        "plt.show()"
      ],
      "metadata": {
        "colab": {
          "base_uri": "https://localhost:8080/",
          "height": 449
        },
        "id": "Lqpsp-OYefrN",
        "outputId": "a189e7ab-3ac7-41ff-cbc7-474d515894d0"
      },
      "execution_count": 134,
      "outputs": [
        {
          "output_type": "display_data",
          "data": {
            "text/plain": [
              "<Figure size 640x480 with 1 Axes>"
            ],
            "image/png": "[encoded data removed]"
          },
          "metadata": {}
        }
      ]
    },
    {
      "cell_type": "code",
      "source": [
        "#find out logistic regression thrshold\n",
        "#default is 0.5\n",
        "\n",
        "#in roc curve ' _ ' is added. that is our threshold value\n",
        "#we can define threshold value using that...\n",
        "\n",
        "#model_fpr,model_tpr,_=roc_curve(y_test,model_prob)\n",
        "\n",
        "model_fpr,model_tpr,thresholds=roc_curve(y_test,model_prob)\n",
        "\n"
      ],
      "metadata": {
        "colab": {
          "base_uri": "https://localhost:8080/"
        },
        "id": "yoL8AAlvmkhr",
        "outputId": "c2908d7a-5a1d-4296-c8ef-d8b8be45ae5c"
      },
      "execution_count": 136,
      "outputs": [
        {
          "output_type": "execute_result",
          "data": {
            "text/plain": [
              "array([       inf, 0.99939857, 0.93442433, 0.92844402, 0.8910509 ,\n",
              "       0.8896078 , 0.76370196, 0.74256898, 0.73082309, 0.71302202,\n",
              "       0.70491189, 0.64210611, 0.64164017, 0.61317626, 0.60357166,\n",
              "       0.5710131 , 0.5661616 , 0.55541304, 0.55140862, 0.47097898,\n",
              "       0.46940336, 0.42258447, 0.4112114 , 0.37850837, 0.37727837,\n",
              "       0.36942032, 0.36669827, 0.36522135, 0.35955718, 0.31451015,\n",
              "       0.30883277, 0.27991072, 0.26947891, 0.23441411, 0.21874884,\n",
              "       0.21290478, 0.20957711, 0.19293716, 0.19080573, 0.15337463,\n",
              "       0.15240452, 0.10023479, 0.0797502 , 0.06610106, 0.06433437,\n",
              "       0.05991056, 0.0576045 , 0.00113225])"
            ]
          },
          "metadata": {},
          "execution_count": 136
        }
      ]
    },
    {
      "cell_type": "code",
      "source": [
        "#plot the roc curve\n",
        "import matplotlib.pyplot as plt\n",
        "\n",
        "fig=plt.figure(figsize=(20,30))\n",
        "\n",
        "plt.plot(dummy_fpr,dummy_tpr,linestyle='-',label=\"Dummy Model\")\n",
        "\n",
        "plt.plot(model_fpr,model_tpr,marker='.',label=\"Logistic Model\")\n",
        "\n",
        "ax= fig.add_subplot(1,1,1)\n",
        "\n",
        "for xyz in zip(model_fpr,model_tpr,thresholds):\n",
        "    ax.annotate(\"%s\" % np.round(xyz[2],2),xy=(xyz[0],xyz[1]))\n",
        "\n",
        "#axis label\n",
        "plt.xlabel(\"False Positive Rate\")\n",
        "plt.ylabel(\"True Positive Rate\")\n",
        "\n",
        "#show the legend\n",
        "plt.legend([\"This is my legend\"], fontsize=\"x-large\")\n",
        "#plt.legend()\n",
        "\n",
        "plt.show()"
      ],
      "metadata": {
        "colab": {
          "base_uri": "https://localhost:8080/",
          "height": 1000
        },
        "id": "feIW0sxumkct",
        "outputId": "45072c7d-ab33-49b6-d999-fef599a2f931"
      },
      "execution_count": 157,
      "outputs": [
        {
          "output_type": "display_data",
          "data": {
            "text/plain": [
              "<Figure size 2000x3000 with 2 Axes>"
            ],
            "image/png": "[encoded data removed]"
          },
          "metadata": {}
        }
      ]
    }
  ]
}